{
  "nbformat": 4,
  "nbformat_minor": 0,
  "metadata": {
    "kernelspec": {
      "display_name": "Python 3",
      "language": "python",
      "name": "python3"
    },
    "language_info": {
      "codemirror_mode": {
        "name": "ipython",
        "version": 3
      },
      "file_extension": ".py",
      "mimetype": "text/x-python",
      "name": "python",
      "nbconvert_exporter": "python",
      "pygments_lexer": "ipython3",
      "version": "3.7.3"
    },
    "colab": {
      "name": "cd_podstaw_pythona_Dariusz_Woźnica_215369.ipynb",
      "provenance": [],
      "collapsed_sections": [],
      "include_colab_link": true
    }
  },
  "cells": [
    {
      "cell_type": "markdown",
      "metadata": {
        "id": "view-in-github",
        "colab_type": "text"
      },
      "source": [
        "<a href=\"https://colab.research.google.com/github/Wozny614/mispy/blob/master/cd_podstaw_pythona_Dariusz_Wo%C5%BAnica_215369.ipynb\" target=\"_parent\"><img src=\"https://colab.research.google.com/assets/colab-badge.svg\" alt=\"Open In Colab\"/></a>"
      ]
    },
    {
      "cell_type": "code",
      "metadata": {
        "id": "SRTuN-lwyvqr"
      },
      "source": [
        "import numpy as np"
      ],
      "execution_count": null,
      "outputs": []
    },
    {
      "cell_type": "markdown",
      "metadata": {
        "id": "ZkqsHrzed5DF"
      },
      "source": [
        "# Challenge\r\n"
      ]
    },
    {
      "cell_type": "markdown",
      "metadata": {
        "id": "c2fk4BVAyvuK"
      },
      "source": [
        "##### challenge 1\n",
        "\n",
        "Stworz typ NumerTelefonu\n",
        "\n",
        " -- przy tworzeniu sprawdza czy właściwy numer (Polski) jeśli nie pisze, że error (ew. Exception)\n",
        " \n",
        " -- gdy printuję to mi pisze polskimi słowami i.e. \"jeden, pięć, siedem, zero\"\n",
        " \n",
        " -- gdy wywołuję właściwość wojewodzwtwo, podaje mi wojewodztwo ew. ze to komorkowy\n",
        " \n",
        " "
      ]
    },
    {
      "cell_type": "code",
      "metadata": {
        "id": "oOJqZ5FzyvuK"
      },
      "source": [
        "# ma na takie rzeczy być w stanie odpowiedzieć\n",
        "\n",
        "numer_lodz = NumerTelefonu(\"426877868\")\n",
        ">>> \"prawidlowy numer\"\n",
        "\n",
        "numer_lodz.wojewodztwo \n",
        ">>> \"Lodz\"\n",
        "\n",
        "print(numer_lodz)\n",
        ">>> \"cztery dwa sześć osiem siedem siedem osiem sześć osiem\""
      ],
      "execution_count": null,
      "outputs": []
    },
    {
      "cell_type": "code",
      "metadata": {
        "id": "hvZQsOiML2__"
      },
      "source": [
        "wojewodztwa = {12:\"Kraków\",13:\"Krosno\",14:\"Tarnów\",15:\"Tarnobrzeg\",16:\"Przemyśl\",17:\"Rzeszów\",18:\"Nowy Sącz\",22:\"Warszawa\",23:\"Ciechanów\",\n",
        "               24:\"Płock\",25:\"Siedlce\",29:\"Ostrołęka\",32:\"Katowice\",33:\"Bielsko-Biała\",34:\"Częstochowa\",41:\"Kielce\",42:\"Łódź\",43:\"Sieradz\",\n",
        "               44:\"Piotrków Trybunalski\",46:\"Skierniewice\",48:\"Radom\",52:\"Bydgoszcz\",54:\"Włocławek\",55:\"Elbląg\",56:\"Toruń\",58:\"Gdańsk\",\n",
        "               59:\"Słupsk\",61:\"Poznań\",62:\"Kalisz\",63:\"Konin\",65:\"Leszno\",67:\"Piła\",68:\"Zielona Góra\",71:\"Wrocław\",74:\"Wałbrzych\",75:\"Jelenia Góra\",\n",
        "               76:\"Legnica\",77:\"Opole\",81:\"Lublin\",82:\"Chełm\",83:\"Bielsko-Biała\",84:\"Zamość\",85:\"Białystok\",86:\"Łomża\",87:\"Suwałki\",89:\"Olsztyn\",\n",
        "               91:\"Szczecin\",94:\"Koszalin\",95:\"Gorzów Wielkopolski\"}\n",
        "\n",
        "komórkowy = [50,51,53,57,60,66,69,72,73,78,79,88,45]\n",
        "cyferki = {\"0\":\"zero \",\"1\":\"jeden \",\"2\":\"dwa \",\"3\":\"trzy \",\"4\":\"cztery \",\"5\":\"pięć \",\"6\":\"sześć \",\"7\":\"siedem \",\"8\":\"osiem \",\"9\":\"dziewięć \"}\n",
        "\n",
        "class NumerTelefonu():\n",
        "  def __init__(self,nr_telefonu):\n",
        "    self.nr_telefonu = nr_telefonu\n",
        "    kierunkowy = (int(nr_telefonu[0:2]))\n",
        "    if (len(nr_telefonu) != 9):\n",
        "      print(\"niepoprawny numer\")\n",
        "    else:\n",
        "      (print(\"poprawny numer\"))\n",
        "\n",
        "      if (kierunkowy in wojewodztwa.keys()):\n",
        "        self.wojewodztwo = wojewodztwa[kierunkowy]\n",
        "      elif (kierunkowy in komórkowy):\n",
        "        self.wojewodztwo = \"komórkowy\"\n",
        "      else: \n",
        "        self.wojewodztwo = \"nie mogę zidentyfkować\"\n",
        "\n",
        "  def __repr__(self):\n",
        "    nr_telefonu=self.nr_telefonu\n",
        "    telefon_do_text = \"\"\n",
        "    for x in range(9):\n",
        "      telefon_do_text += cyferki[nr_telefonu[x]]\n",
        "    return telefon_do_text"
      ],
      "execution_count": null,
      "outputs": []
    },
    {
      "cell_type": "code",
      "metadata": {
        "id": "9O5mVt6BL8U3",
        "colab": {
          "base_uri": "https://localhost:8080/"
        },
        "outputId": "3c45dcc2-1415-4ae7-c6c5-6eb72b88bd4c"
      },
      "source": [
        "numer_lodz=NumerTelefonu(\"133123131\")\n",
        "print(numer_lodz.wojewodztwo)\n",
        "print(numer_lodz)\n",
        "\n"
      ],
      "execution_count": null,
      "outputs": [
        {
          "output_type": "stream",
          "text": [
            "poprawny numer\n",
            "Krosno\n",
            "jeden trzy trzy jeden dwa trzy jeden trzy jeden \n"
          ],
          "name": "stdout"
        }
      ]
    }
  ]
}