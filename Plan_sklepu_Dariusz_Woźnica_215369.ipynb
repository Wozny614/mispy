{
  "nbformat": 4,
  "nbformat_minor": 0,
  "metadata": {
    "colab": {
      "name": "Plan_sklepu_Dariusz_Woźnica_215369.ipynb",
      "provenance": [],
      "collapsed_sections": [],
      "mount_file_id": "1oXsHFWQ2mnuOb0Cnmf6_PqrNfvcT2i4n",
      "authorship_tag": "ABX9TyP6agDOr7QoppEOw63qZ/KA",
      "include_colab_link": true
    },
    "kernelspec": {
      "name": "python3",
      "display_name": "Python 3"
    }
  },
  "cells": [
    {
      "cell_type": "markdown",
      "metadata": {
        "id": "view-in-github",
        "colab_type": "text"
      },
      "source": [
        "<a href=\"https://colab.research.google.com/github/Wozny614/mispy/blob/master/Plan_sklepu_Dariusz_Wo%C5%BAnica_215369.ipynb\" target=\"_parent\"><img src=\"https://colab.research.google.com/assets/colab-badge.svg\" alt=\"Open In Colab\"/></a>"
      ]
    },
    {
      "cell_type": "code",
      "metadata": {
        "id": "ocfq2711JBIR"
      },
      "source": [
        "!pip install pulp\n",
        "\n",
        "!sudo apt-get install coinor-cbc glpk-utils coinor-clp"
      ],
      "execution_count": null,
      "outputs": []
    },
    {
      "cell_type": "markdown",
      "metadata": {
        "id": "yUnpgNS8TE3G"
      },
      "source": [
        "Celem zadania jest ułożenie planu sklepu, na podstawie dostępnych pracowników, ich dostępnych dni, oraz wymaganych pracowników w danym dniu.\r\n",
        "\r\n",
        "Każdy z pracowników otrzymuje inne wynagrodzenie za dzien pracy\r\n",
        "\r\n",
        "|Pracownik|Ania|Stefan|Hektor|Olaf|Lidia|Piotr|\r\n",
        "|-|-|-|-|-|-|-|\r\n",
        "|Cena|100|50|60|40|110|70|\r\n",
        "\r\n",
        "Wymagana ilość pracowników oraz ich dostępność w danym dniu przedstawiona jest poniżej.\r\n",
        "\r\n",
        "|Dzień|Pon|Wt|Śr|Czw|Pt|\r\n",
        "|-|-|-|-|-|-|\r\n",
        "|Wymóg |2|1|1|1|3|\r\n",
        "|Ania  |1|1|1|1|1|\r\n",
        "|Stefan|1|0|0|0|0|\r\n",
        "|Hektor|1|1|1|0|0|\r\n",
        "|Olaf  |1|1|1|1|1|\r\n",
        "|Lidia |0|0|0|1|1|\r\n",
        "|Piotr |1|1|1|0|0|\r\n",
        "\r\n",
        "Dodatkowo każdy z pracowników nie może pracować więcej niż 3 razy w tygodniu\r\n",
        "\r\n"
      ]
    },
    {
      "cell_type": "code",
      "metadata": {
        "id": "c2B23jgjQvd_",
        "colab": {
          "base_uri": "https://localhost:8080/"
        },
        "outputId": "2a3b6fbf-e77a-4e2c-ae6b-0c3a5f1f4f9e"
      },
      "source": [
        "from pulp import *\n",
        "\n",
        "prob = LpProblem(\"Plan_Sklepu\",LpMinimize)\n",
        "\n",
        "pracownicy =          ['Ania','Stefan','Hektor','Olaf','Lidia','Piotr']\n",
        "dni_tyg =             ['1Pon','2Wt','3Sr','4Cz','5Pt']\n",
        "# ilosc pracownikow w danym dniu tygodnia\n",
        "min_pracowników =     {'1Pon':2,'2Wt':1,'3Sr':1,'4Cz':1,'5Pt':3}\n",
        "#dostepne dni pracownikow\n",
        "Ania_dostepne_dni =   {'1Pon':1,'2Wt':1,'3Sr':1,'4Cz':1,'5Pt':1}\n",
        "Stefan_dostepne_dni = {'1Pon':1,'2Wt':0,'3Sr':0,'4Cz':0,'5Pt':0}\n",
        "Hektor_dostepne_dni = {'1Pon':1,'2Wt':1,'3Sr':1,'4Cz':0,'5Pt':0}\n",
        "Olaf_dostepne_dni =   {'1Pon':1,'2Wt':1,'3Sr':1,'4Cz':1,'5Pt':1}\n",
        "Lidia_dostepne_dni =  {'1Pon':0,'2Wt':0,'3Sr':0,'4Cz':1,'5Pt':1}\n",
        "Piotr_dostepne_dni =  {'1Pon':1,'2Wt':1,'3Sr':1,'4Cz':0,'5Pt':0}\n",
        "\n",
        "\n",
        "Ania = LpVariable.dicts   (\"Ania\"  ,dni_tyg,0,1,LpInteger)\n",
        "Stefan = LpVariable.dicts (\"Stefan\",dni_tyg,0,1,LpInteger)\n",
        "Hektor = LpVariable.dicts (\"Hektor\",dni_tyg,0,1,LpInteger)\n",
        "Olaf = LpVariable.dicts   (\"Olaf\"  ,dni_tyg,0,1,LpInteger)\n",
        "Lidia = LpVariable.dicts  (\"Lidia\" ,dni_tyg,0,1,LpInteger)\n",
        "Piotr = LpVariable.dicts  (\"Piotr\" ,dni_tyg,0,1,LpInteger)\n",
        "\n",
        "#całkowity koszt\n",
        "prob +=lpSum([Ania[i]*100,Stefan[i]*50,Hektor[i]*60,Olaf[i]*40,Lidia[i]*110,Piotr[i]*70]for i in dni_tyg),\"Całkowity_koszt\"\n",
        "#max 3 dni mogą pracować\n",
        "prob +=lpSum([Ania[i]   for i in dni_tyg])<=3\n",
        "prob +=lpSum([Stefan[i] for i in dni_tyg])<=3\n",
        "prob +=lpSum([Hektor[i] for i in dni_tyg])<=3\n",
        "prob +=lpSum([Olaf[i]   for i in dni_tyg])<=3\n",
        "prob +=lpSum([Lidia[i]  for i in dni_tyg])<=3\n",
        "prob +=lpSum([Piotr[i]  for i in dni_tyg])<=3\n",
        "#ustawianie ograniczenie w które dni mogą pracować\n",
        "for i in dni_tyg:\n",
        "  prob += lpSum(Ania[i])  <= Ania_dostepne_dni[i]\n",
        "  prob += lpSum(Stefan[i])<= Stefan_dostepne_dni[i]\n",
        "  prob += lpSum(Hektor[i])<= Hektor_dostepne_dni[i]\n",
        "  prob += lpSum(Olaf[i])  <= Olaf_dostepne_dni[i]\n",
        "  prob += lpSum(Lidia[i]) <= Lidia_dostepne_dni[i]\n",
        "  prob += lpSum(Piotr[i]) <= Piotr_dostepne_dni[i]\n",
        "\n",
        "for i in dni_tyg:\n",
        "  prob +=lpSum([Ania[i],Stefan[i],Hektor[i],Olaf[i],Lidia[i],Piotr[i]])>=min_pracowników[i]\n",
        "\n",
        "prob.solve()\n",
        "print(\"Status:\", LpStatus[prob.status])\n",
        "print(\"Całkowity kosz to\",value(prob.objective))\n",
        "for v in prob.variables():\n",
        "  print(v.name,\"=\",v.varValue)\n",
        "\n"
      ],
      "execution_count": null,
      "outputs": [
        {
          "output_type": "stream",
          "text": [
            "Status: Optimal\n",
            "Całkowity kosz to 500.0\n",
            "Ania_1Pon = 0.0\n",
            "Ania_2Wt = 0.0\n",
            "Ania_3Sr = 0.0\n",
            "Ania_4Cz = 0.0\n",
            "Ania_5Pt = 1.0\n",
            "Hektor_1Pon = 1.0\n",
            "Hektor_2Wt = 1.0\n",
            "Hektor_3Sr = 0.0\n",
            "Hektor_4Cz = 0.0\n",
            "Hektor_5Pt = 0.0\n",
            "Lidia_1Pon = 0.0\n",
            "Lidia_2Wt = 0.0\n",
            "Lidia_3Sr = 0.0\n",
            "Lidia_4Cz = 0.0\n",
            "Lidia_5Pt = 1.0\n",
            "Olaf_1Pon = 0.0\n",
            "Olaf_2Wt = 0.0\n",
            "Olaf_3Sr = 1.0\n",
            "Olaf_4Cz = 1.0\n",
            "Olaf_5Pt = 1.0\n",
            "Piotr_1Pon = 0.0\n",
            "Piotr_2Wt = 0.0\n",
            "Piotr_3Sr = 0.0\n",
            "Piotr_4Cz = 0.0\n",
            "Piotr_5Pt = 0.0\n",
            "Stefan_1Pon = 1.0\n",
            "Stefan_2Wt = 0.0\n",
            "Stefan_3Sr = 0.0\n",
            "Stefan_4Cz = 0.0\n",
            "Stefan_5Pt = 0.0\n"
          ],
          "name": "stdout"
        }
      ]
    }
  ]
}