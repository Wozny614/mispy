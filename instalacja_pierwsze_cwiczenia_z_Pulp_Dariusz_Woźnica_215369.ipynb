{
  "nbformat": 4,
  "nbformat_minor": 0,
  "metadata": {
    "colab": {
      "name": "instalacja_pierwsze_cwiczenia_z_Pulp+Problem_okien_Dariusz_Woźnica_215369.ipynb",
      "provenance": [],
      "collapsed_sections": [
        "JHP3Y3Yh-stH",
        "2JJZ3eSuKMbO"
      ],
      "include_colab_link": true
    },
    "kernelspec": {
      "name": "python3",
      "display_name": "Python 3"
    }
  },
  "cells": [
    {
      "cell_type": "markdown",
      "metadata": {
        "id": "view-in-github",
        "colab_type": "text"
      },
      "source": [
        "<a href=\"https://colab.research.google.com/github/Wozny614/mispy/blob/master/instalacja_pierwsze_cwiczenia_z_Pulp_Dariusz_Wo%C5%BAnica_215369.ipynb\" target=\"_parent\"><img src=\"https://colab.research.google.com/assets/colab-badge.svg\" alt=\"Open In Colab\"/></a>"
      ]
    },
    {
      "cell_type": "code",
      "metadata": {
        "id": "BjX-mj9e8D5a"
      },
      "source": [
        "!pip install pulp\n",
        "\n",
        "!sudo apt-get install coinor-cbc glpk-utils coinor-clp\n"
      ],
      "execution_count": null,
      "outputs": []
    },
    {
      "cell_type": "code",
      "metadata": {
        "id": "HMGiufp89W-9",
        "colab": {
          "base_uri": "https://localhost:8080/"
        },
        "outputId": "4d8733e5-be23-4b8f-c0b2-7ee02190ae16"
      },
      "source": [
        "### kod sprawdza czy instalacja się udała\n",
        "import pulp\n",
        "\n",
        "print(pulp.__version__)"
      ],
      "execution_count": 2,
      "outputs": [
        {
          "output_type": "stream",
          "text": [
            "2.4\n"
          ],
          "name": "stdout"
        }
      ]
    },
    {
      "cell_type": "code",
      "metadata": {
        "id": "05p9Frax-V2f"
      },
      "source": [
        "pulp.pulpTestAll()"
      ],
      "execution_count": null,
      "outputs": []
    },
    {
      "cell_type": "markdown",
      "metadata": {
        "id": "JHP3Y3Yh-stH"
      },
      "source": [
        "# Zadania:\n",
        "\n",
        "1. przeczytaj materiały dotyczące pulp ze strony internetowej https://coin-or.github.io/pulp/main/index.html oraz przejdź przez blending problem (przepisz do swojego notebooka)\n",
        "\n",
        "2. w blending problem dodaj zmienną decyzyjną. Stwórz zmienną która pojawi się w końcowym składzie produktu (tj. wartość zmiennej będzie miała niezerową postać)\n",
        "\n",
        "3. Dodaj ograniczenie co do zawartości witaminy B \n",
        "\n",
        "Zawartość:\n",
        "\n",
        "| Nazwa      | zawartość ug/100g |\n",
        "|------------|-------------------|\n",
        "| chicken    | 0.3               |\n",
        "| beef       | 2.6               |\n",
        "| mutton     | 2.6               |\n",
        "| rice       | 0                 |\n",
        "| wheat bran | 0                 |\n",
        "| gel        | 0                 |\n",
        "| sardines   | 8.9               |\n",
        "\n",
        "Kot ma zjeść minimum 0.24 ug na kilogram masy więc około\n",
        "0.8 ug dziennie\n",
        "\n",
        "4. Na końcu ma pojawiać się zdanie podsumowujące wynik, w stylu:\n",
        "Końcowy produkt będzie kosztować {}, będzie miał w składzie {nazwa}: {} %, {nastepna nazwa}: {} %\n",
        "\n",
        "\n",
        "\n"
      ]
    },
    {
      "cell_type": "markdown",
      "metadata": {
        "id": "xQfAmRSrfnGS"
      },
      "source": [
        "Simple Problem\r\n",
        "\r\n",
        "Problem ten polega na minimalizacji kosztu produkcji jednego opakowania karmy dla kota, tak aby zawierała zdefiniowane wartości odżywcze (proteiny,tłuszcze,błonnik,sól).\r\n",
        "\r\n",
        "W uproszczonej wersji tego problemu posługujemy się dwiema zmiennymi decyzyjnymi którymi są: zawartość wołowiny i kurczaka w produkcie.\r\n",
        "\r\n",
        "Aby rozwiązać dany problem najpierw trzeba:\r\n",
        "- zdefiniować go (czy chcemy minimalizować lub maksymalizować)\r\n",
        "- określić zmienne którymi się posługujemy (czy są to zmienne dyskretne - *Integer* czy zmienne ciągłe - *Continous* oraz ich zakres)\r\n",
        "- określić warunki oraz ograniczenia dla zmiennych wynikających z założenia\r\n",
        "\r\n",
        "Po rozwiązaniu problemu dowiadujemy się czy udało się zoptymalizować oraz po wywołaniu zmiennych oraz ich wartości skład danego produktu. Na koniec przedstawiona jest uzyskana cena jednego opakowania karmy."
      ]
    },
    {
      "cell_type": "code",
      "metadata": {
        "id": "ELNE-rthXJQl"
      },
      "source": [
        "from pulp import *\n",
        "prob = LpProblem(\"The_Wiskas_Problem\",LpMinimize)\n",
        "\n",
        "x1 = LpVariable(\"ChickenPercent\",0,None,LpInteger)\n",
        "x2 = LpVariable(\"BeefPercent\",0)\n",
        "\n",
        "prob +=0.013*x1 + 0.008*x2,\"Total_cost_of_Ingredients_per_can\"\n",
        "\n",
        "prob += x1 + x2 == 100,\"PercentagesSum\"\n",
        "prob += 0.100*x1 + 0.200*x2 >= 8.0, \"ProteinRequirement\"\n",
        "prob += 0.080*x1 + 0.100*x2 >= 6.0, \"FatRequirement\"\n",
        "prob += 0.001*x1 + 0.006*x2 <= 2.0, \"FibreRequirement\"\n",
        "prob += 0.002*x1 + 0.005*x2 <= 0.4, \"SaltRequirement\"\n"
      ],
      "execution_count": 13,
      "outputs": []
    },
    {
      "cell_type": "code",
      "metadata": {
        "id": "SMb8_JHLZBM3",
        "colab": {
          "base_uri": "https://localhost:8080/"
        },
        "outputId": "1d36bca6-8df5-4a5d-8b1e-60da7d895cfc"
      },
      "source": [
        "prob.writeLP(\"WhiskasModel.lp\")"
      ],
      "execution_count": 14,
      "outputs": [
        {
          "output_type": "execute_result",
          "data": {
            "text/plain": [
              "[BeefPercent, ChickenPercent]"
            ]
          },
          "metadata": {
            "tags": []
          },
          "execution_count": 14
        }
      ]
    },
    {
      "cell_type": "code",
      "metadata": {
        "id": "DDTF5NQ4aet6",
        "colab": {
          "base_uri": "https://localhost:8080/"
        },
        "outputId": "242b6a62-010b-4c0d-9dc3-44f1a3de22af"
      },
      "source": [
        "prob.solve()\n",
        "print(\"Status:\", LpStatus[prob.status])\n",
        "for v in prob.variables():\n",
        "  print(v.name,\"=\",v.varValue)"
      ],
      "execution_count": 15,
      "outputs": [
        {
          "output_type": "stream",
          "text": [
            "Status: Optimal\n",
            "BeefPercent = 66.0\n",
            "ChickenPercent = 34.0\n"
          ],
          "name": "stdout"
        }
      ]
    },
    {
      "cell_type": "code",
      "metadata": {
        "id": "_r6O55bAbKk6",
        "colab": {
          "base_uri": "https://localhost:8080/"
        },
        "outputId": "d85c64fe-fc71-4fc3-f407-851a555f8356"
      },
      "source": [
        "print(\"Total_Cost_of_Ingredients_per_can = \", value(prob.objective))"
      ],
      "execution_count": 16,
      "outputs": [
        {
          "output_type": "stream",
          "text": [
            "Total_Cost_of_Ingredients_per_can =  0.97\n"
          ],
          "name": "stdout"
        }
      ]
    },
    {
      "cell_type": "markdown",
      "metadata": {
        "id": "otZfHz1e9Vq9"
      },
      "source": [
        "# Whiskas more complex problem\r\n"
      ]
    },
    {
      "cell_type": "markdown",
      "metadata": {
        "id": "SMCjZ-unid50"
      },
      "source": [
        "W tym problemie dysponujemy większą ilością zmiennych (składników wchodzących  w skład karmy), odpowiednio ceną, oraz wartościami odżywczymi każdego z nich.\r\n",
        "Celem tak jak w uproszczonym problemie jest minimalizacja ceny produkcji jednego opakowania karmy tak aby zawierała wymagane wartości odżywcze dla kota.\r\n",
        "\r\n",
        "Wartości odżywcze w 1g\r\n",
        "\r\n",
        "|Product|Chicken|Beef|Mutton|Rice|Wheat|Gel|Sardines\r\n",
        "|---------|-----|-----|-----|-----|-----|-----|-----|\r\n",
        "|Protein  |0.100|0.200|0.150|0.000|0.040|0.000|0.100|\r\n",
        "|Fat      |0.080|0.100|0.110|0.010|0.010|0.000|0.001|\r\n",
        "|Fibre    |0.001|0.005|0.003|0.100|0.150|0.000|0.001|\r\n",
        "|Salt     |0.002|0.005|0.007|0.002|0.008|0.000|0.006|\r\n",
        "|Vitamin B|0.003|0.026|0.026|0.002|0.008|0.000|0.089|\r\n",
        "\r\n",
        "\r\n",
        "Koszt 1g\r\n",
        "\r\n",
        "|Product|Cost|\r\n",
        "|----|----|\r\n",
        "|Chicken |0.013|\r\n",
        "|Beef    |0.008|\r\n",
        "|Mutton  |0.010|\r\n",
        "|Rice    |0.002|\r\n",
        "|Wheat   |0.006|\r\n",
        "|Gel     |0.001|\r\n",
        "|Saridnes|0.001|\r\n",
        "\r\n",
        "\r\n",
        "Wymagane wartości odżywcze\r\n",
        "\r\n",
        "|Product|Requirement|\r\n",
        "|----|----|\r\n",
        "|Protein  |8.0|\r\n",
        "|Fat      |6.0|\r\n",
        "|Fibre    |2.0|\r\n",
        "|Salt     |0.4|\r\n",
        "|Vitamin B|0.8|"
      ]
    },
    {
      "cell_type": "code",
      "metadata": {
        "id": "w5TnwxBDiMcI",
        "colab": {
          "base_uri": "https://localhost:8080/"
        },
        "outputId": "b09063be-ebe6-4822-eaa3-6dff45787a47"
      },
      "source": [
        "from pulp import *\n",
        "\n",
        "Ingredients = ['CHICKEN','BEEF','MUTTON','RICE','WHEAT','GEL','SARDINES']\n",
        "\n",
        "costs = {'CHICKEN': 0.013,\n",
        "         'BEEF':0.008,\n",
        "         'MUTTON':0.010,\n",
        "         'RICE':0.002,\n",
        "         'WHEAT':0.005,\n",
        "         'GEL':0.001,\n",
        "         'SARDINES':0.001\n",
        "         }\n",
        "\n",
        "\n",
        "proteinPercent = {'CHICKEN': 0.100,\n",
        "                  'BEEF':0.200,\n",
        "                  'MUTTON':0.150,\n",
        "                  'RICE':0.000,\n",
        "                  'WHEAT':0.040,\n",
        "                  'GEL':0.000,\n",
        "         'SARDINES':0.1\n",
        "                  }\n",
        "\n",
        "\n",
        "fatPercent = {'CHICKEN': 0.080,\n",
        "              'BEEF':0.100,\n",
        "              'MUTTON':0.110,\n",
        "              'RICE':0.010,\n",
        "              'WHEAT':0.010,\n",
        "              'GEL':0.000,\n",
        "         'SARDINES':0.001\n",
        "              }   \n",
        "\n",
        "\n",
        "fibrePercent = {'CHICKEN': 0.001,\n",
        "                  'BEEF':0.005,\n",
        "                  'MUTTON':0.003,\n",
        "                  'RICE':0.100,\n",
        "                  'WHEAT':0.150,\n",
        "                  'GEL':0.000,\n",
        "         'SARDINES':0.001\n",
        "                  }\n",
        "\n",
        "\n",
        "saltPercent = {'CHICKEN': 0.002,\n",
        "                  'BEEF':0.005,\n",
        "                  'MUTTON':0.007,\n",
        "                  'RICE':0.002,\n",
        "                  'WHEAT':0.008,\n",
        "                  'GEL':0.000,\n",
        "         'SARDINES':0.006\n",
        "                  }\n",
        "\n",
        "vitaminBPercent = {'CHICKEN': 0.003,\n",
        "                  'BEEF':0.026,\n",
        "                  'MUTTON':0.026,\n",
        "                  'RICE':0.002,\n",
        "                  'WHEAT':0.008,\n",
        "                  'GEL':0.000,\n",
        "                  'SARDINES':0.000\n",
        "                  }\n",
        "\n",
        "prob = LpProblem(\"The_Whiskas_Problem\",LpMinimize)\n",
        "ingredient_vars = LpVariable.dicts(\"Ingr\",Ingredients,0)\n",
        "\n",
        "\n",
        "\n",
        "prob += lpSum([costs[i]*ingredient_vars[i] for i in Ingredients]), \"Total_Cost_of_Ingredients_per_can\"\n",
        "\n",
        "\n",
        "prob += lpSum([ingredient_vars[i] for i in Ingredients]) == 100, \"PercentagesSum\"\n",
        "prob += lpSum([proteinPercent[i] * ingredient_vars[i] for i in Ingredients]) >= 8.0, \"ProteinRequirement\"\n",
        "prob += lpSum([fatPercent[i] * ingredient_vars[i] for i in Ingredients]) >= 6.0, \"FatRequirement\"\n",
        "prob += lpSum([fibrePercent[i] * ingredient_vars[i] for i in Ingredients]) <= 2.0, \"FibreRequirement\"\n",
        "prob += lpSum([saltPercent[i] * ingredient_vars[i] for i in Ingredients]) <= 0.4, \"SaltRequirement\"\n",
        "prob += lpSum([vitaminBPercent[i] * ingredient_vars[i] for i in Ingredients]) >= 0.8, \"VitaminBRequirement\"\n",
        "\n",
        "\n",
        "\n",
        "prob.solve()\n",
        "\n",
        "\n",
        "variables_value = []\n",
        "variables_name = []\n",
        "\n",
        "for i in range(len(Ingredients)):\n",
        "  variables_value.append(value(prob.variables()[i]))\n",
        "  variables_name.append(Ingredients[i])\n",
        "  \n",
        "sklejone_name_value = [\":\".join((str(name), str(value))) for name,value in zip(sorted(variables_name),variables_value)]\n",
        "sklejone_cale=\"%, \".join(sklejone_name_value)\n",
        "\n",
        "print(\"Końcowy produkt będzie kosztować \"+str(value(prob.objective))+\", będzie miał w składzie: \"+ str(sklejone_cale)+\"%\")"
      ],
      "execution_count": 17,
      "outputs": [
        {
          "output_type": "stream",
          "text": [
            "Końcowy produkt będzie kosztować 0.518823532, będzie miał w składzie: BEEF:59.831933%, CHICKEN:0.0%, GEL:23.361345%, MUTTON:0.0%, RICE:0.0%, SARDINES:16.806723%, WHEAT:0.0%\n"
          ],
          "name": "stdout"
        }
      ]
    }
  ]
}