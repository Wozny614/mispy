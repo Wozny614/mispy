{
  "nbformat": 4,
  "nbformat_minor": 0,
  "metadata": {
    "colab": {
      "name": "instalacja_pierwsze_cwiczenia_z_Pulp+Problem_okien_Dariusz_Woźnica_215369.ipynb",
      "provenance": [],
      "collapsed_sections": [
        "JHP3Y3Yh-stH",
        "2JJZ3eSuKMbO"
      ],
      "include_colab_link": true
    },
    "kernelspec": {
      "name": "python3",
      "display_name": "Python 3"
    },
    "widgets": {
      "application/vnd.jupyter.widget-state+json": {
        "144942802b6245dda29dc2c5f1000ff4": {
          "model_module": "@jupyter-widgets/controls",
          "model_name": "VBoxModel",
          "state": {
            "_view_name": "VBoxView",
            "_dom_classes": [
              "widget-interact"
            ],
            "_model_name": "VBoxModel",
            "_view_module": "@jupyter-widgets/controls",
            "_model_module_version": "1.5.0",
            "_view_count": null,
            "_view_module_version": "1.5.0",
            "box_style": "",
            "layout": "IPY_MODEL_fa70e7e14b4f4c369e57202338edf552",
            "_model_module": "@jupyter-widgets/controls",
            "children": [
              "IPY_MODEL_fbdf48d88db948b2a8525efad67286fb",
              "IPY_MODEL_fbeb1ff5c3214703b308cc53923b866a",
              "IPY_MODEL_75af759ed64c461d9e7d381f5113bac8",
              "IPY_MODEL_65bed2510ec64badb49bd4e7c6e83d66",
              "IPY_MODEL_b7e72adf1bea4bcfa27fc47b43e505c9",
              "IPY_MODEL_0be203b2f2144d51a5b5a38fb353c478",
              "IPY_MODEL_f719bf84be1247aa894ab9ce0cea5666",
              "IPY_MODEL_6d0c904781a7486f8d4488ec908b53a2",
              "IPY_MODEL_8167f82d57764868a62b0119c337e2f3",
              "IPY_MODEL_ed77b5ce18364759969e322614d80683"
            ]
          }
        },
        "fa70e7e14b4f4c369e57202338edf552": {
          "model_module": "@jupyter-widgets/base",
          "model_name": "LayoutModel",
          "state": {
            "_view_name": "LayoutView",
            "grid_template_rows": null,
            "right": null,
            "justify_content": null,
            "_view_module": "@jupyter-widgets/base",
            "overflow": null,
            "_model_module_version": "1.2.0",
            "_view_count": null,
            "flex_flow": null,
            "width": null,
            "min_width": null,
            "border": null,
            "align_items": null,
            "bottom": null,
            "_model_module": "@jupyter-widgets/base",
            "top": null,
            "grid_column": null,
            "overflow_y": null,
            "overflow_x": null,
            "grid_auto_flow": null,
            "grid_area": null,
            "grid_template_columns": null,
            "flex": null,
            "_model_name": "LayoutModel",
            "justify_items": null,
            "grid_row": null,
            "max_height": null,
            "align_content": null,
            "visibility": null,
            "align_self": null,
            "height": null,
            "min_height": null,
            "padding": null,
            "grid_auto_rows": null,
            "grid_gap": null,
            "max_width": null,
            "order": null,
            "_view_module_version": "1.2.0",
            "grid_template_areas": null,
            "object_position": null,
            "object_fit": null,
            "grid_auto_columns": null,
            "margin": null,
            "display": null,
            "left": null
          }
        },
        "fbdf48d88db948b2a8525efad67286fb": {
          "model_module": "@jupyter-widgets/controls",
          "model_name": "FloatSliderModel",
          "state": {
            "_view_name": "FloatSliderView",
            "style": "IPY_MODEL_9eb9509ee276462390acec7b81eb2c65",
            "_dom_classes": [],
            "description": "fabryka1_max_h",
            "step": 0.1,
            "_model_name": "FloatSliderModel",
            "orientation": "horizontal",
            "max": 24,
            "_view_module": "@jupyter-widgets/controls",
            "_model_module_version": "1.5.0",
            "value": 4.1,
            "_view_count": null,
            "disabled": false,
            "_view_module_version": "1.5.0",
            "min": 0,
            "continuous_update": true,
            "readout_format": ".2f",
            "description_tooltip": null,
            "readout": true,
            "_model_module": "@jupyter-widgets/controls",
            "layout": "IPY_MODEL_a8d4ecea2b7d49d489f7a1f1aa8b9f77"
          }
        },
        "fbeb1ff5c3214703b308cc53923b866a": {
          "model_module": "@jupyter-widgets/controls",
          "model_name": "FloatSliderModel",
          "state": {
            "_view_name": "FloatSliderView",
            "style": "IPY_MODEL_0b0750f8003c468b8d63e2827123a144",
            "_dom_classes": [],
            "description": "fabryka1_x1",
            "step": 0.1,
            "_model_name": "FloatSliderModel",
            "orientation": "horizontal",
            "max": 5,
            "_view_module": "@jupyter-widgets/controls",
            "_model_module_version": "1.5.0",
            "value": 1,
            "_view_count": null,
            "disabled": false,
            "_view_module_version": "1.5.0",
            "min": 0,
            "continuous_update": true,
            "readout_format": ".2f",
            "description_tooltip": null,
            "readout": true,
            "_model_module": "@jupyter-widgets/controls",
            "layout": "IPY_MODEL_c04af353617e47cbb2b90a0a0653665d"
          }
        },
        "75af759ed64c461d9e7d381f5113bac8": {
          "model_module": "@jupyter-widgets/controls",
          "model_name": "FloatSliderModel",
          "state": {
            "_view_name": "FloatSliderView",
            "style": "IPY_MODEL_ea63f4d219e84a8586bfb7aa021cb3fe",
            "_dom_classes": [],
            "description": "fabryka1_x2",
            "step": 0.1,
            "_model_name": "FloatSliderModel",
            "orientation": "horizontal",
            "max": 5,
            "_view_module": "@jupyter-widgets/controls",
            "_model_module_version": "1.5.0",
            "value": 0,
            "_view_count": null,
            "disabled": false,
            "_view_module_version": "1.5.0",
            "min": 0,
            "continuous_update": true,
            "readout_format": ".2f",
            "description_tooltip": null,
            "readout": true,
            "_model_module": "@jupyter-widgets/controls",
            "layout": "IPY_MODEL_2ab0b88544a44a0dbbe7c1e94fc5acf7"
          }
        },
        "65bed2510ec64badb49bd4e7c6e83d66": {
          "model_module": "@jupyter-widgets/controls",
          "model_name": "FloatSliderModel",
          "state": {
            "_view_name": "FloatSliderView",
            "style": "IPY_MODEL_dd5725491e28415fb2584087fd736c04",
            "_dom_classes": [],
            "description": "fabryka2_max_h",
            "step": 0.1,
            "_model_name": "FloatSliderModel",
            "orientation": "horizontal",
            "max": 24,
            "_view_module": "@jupyter-widgets/controls",
            "_model_module_version": "1.5.0",
            "value": 12.2,
            "_view_count": null,
            "disabled": false,
            "_view_module_version": "1.5.0",
            "min": 0,
            "continuous_update": true,
            "readout_format": ".2f",
            "description_tooltip": null,
            "readout": true,
            "_model_module": "@jupyter-widgets/controls",
            "layout": "IPY_MODEL_a5bb1396291f4b90bb56744eddd4c7d9"
          }
        },
        "b7e72adf1bea4bcfa27fc47b43e505c9": {
          "model_module": "@jupyter-widgets/controls",
          "model_name": "FloatSliderModel",
          "state": {
            "_view_name": "FloatSliderView",
            "style": "IPY_MODEL_dafaef775dd4433bbd586cb3fcce9cca",
            "_dom_classes": [],
            "description": "fabryka2_x1",
            "step": 0.1,
            "_model_name": "FloatSliderModel",
            "orientation": "horizontal",
            "max": 5,
            "_view_module": "@jupyter-widgets/controls",
            "_model_module_version": "1.5.0",
            "value": 0,
            "_view_count": null,
            "disabled": false,
            "_view_module_version": "1.5.0",
            "min": 0,
            "continuous_update": true,
            "readout_format": ".2f",
            "description_tooltip": null,
            "readout": true,
            "_model_module": "@jupyter-widgets/controls",
            "layout": "IPY_MODEL_61e4c74f2c7b4832b64e811e2d9264ad"
          }
        },
        "0be203b2f2144d51a5b5a38fb353c478": {
          "model_module": "@jupyter-widgets/controls",
          "model_name": "FloatSliderModel",
          "state": {
            "_view_name": "FloatSliderView",
            "style": "IPY_MODEL_c632cc45b4804795be12c800fb42d14d",
            "_dom_classes": [],
            "description": "fabryka2_x2",
            "step": 0.1,
            "_model_name": "FloatSliderModel",
            "orientation": "horizontal",
            "max": 5,
            "_view_module": "@jupyter-widgets/controls",
            "_model_module_version": "1.5.0",
            "value": 1,
            "_view_count": null,
            "disabled": false,
            "_view_module_version": "1.5.0",
            "min": 0,
            "continuous_update": true,
            "readout_format": ".2f",
            "description_tooltip": null,
            "readout": true,
            "_model_module": "@jupyter-widgets/controls",
            "layout": "IPY_MODEL_1efe8bcf61d14580a9d2bde53e731f93"
          }
        },
        "f719bf84be1247aa894ab9ce0cea5666": {
          "model_module": "@jupyter-widgets/controls",
          "model_name": "FloatSliderModel",
          "state": {
            "_view_name": "FloatSliderView",
            "style": "IPY_MODEL_1c8663d6554f47b5aa1cc6a1789e179e",
            "_dom_classes": [],
            "description": "fabryka3_max_h",
            "step": 0.1,
            "_model_name": "FloatSliderModel",
            "orientation": "horizontal",
            "max": 24,
            "_view_module": "@jupyter-widgets/controls",
            "_model_module_version": "1.5.0",
            "value": 24,
            "_view_count": null,
            "disabled": false,
            "_view_module_version": "1.5.0",
            "min": 0,
            "continuous_update": true,
            "readout_format": ".2f",
            "description_tooltip": null,
            "readout": true,
            "_model_module": "@jupyter-widgets/controls",
            "layout": "IPY_MODEL_21b0ff3926aa47f69d682277390d8e4e"
          }
        },
        "6d0c904781a7486f8d4488ec908b53a2": {
          "model_module": "@jupyter-widgets/controls",
          "model_name": "FloatSliderModel",
          "state": {
            "_view_name": "FloatSliderView",
            "style": "IPY_MODEL_be15c18500f04d40847790e7b9d419fc",
            "_dom_classes": [],
            "description": "fabryka3_x1",
            "step": 0.1,
            "_model_name": "FloatSliderModel",
            "orientation": "horizontal",
            "max": 5,
            "_view_module": "@jupyter-widgets/controls",
            "_model_module_version": "1.5.0",
            "value": 3,
            "_view_count": null,
            "disabled": false,
            "_view_module_version": "1.5.0",
            "min": 0,
            "continuous_update": true,
            "readout_format": ".2f",
            "description_tooltip": null,
            "readout": true,
            "_model_module": "@jupyter-widgets/controls",
            "layout": "IPY_MODEL_7a89cbe66f6e445486ecf5c4f97c068b"
          }
        },
        "8167f82d57764868a62b0119c337e2f3": {
          "model_module": "@jupyter-widgets/controls",
          "model_name": "FloatSliderModel",
          "state": {
            "_view_name": "FloatSliderView",
            "style": "IPY_MODEL_125ebf90161d40b6801e8115eca14865",
            "_dom_classes": [],
            "description": "fabryka3_x2",
            "step": 0.1,
            "_model_name": "FloatSliderModel",
            "orientation": "horizontal",
            "max": 5,
            "_view_module": "@jupyter-widgets/controls",
            "_model_module_version": "1.5.0",
            "value": 1,
            "_view_count": null,
            "disabled": false,
            "_view_module_version": "1.5.0",
            "min": 0,
            "continuous_update": true,
            "readout_format": ".2f",
            "description_tooltip": null,
            "readout": true,
            "_model_module": "@jupyter-widgets/controls",
            "layout": "IPY_MODEL_3844f7ba18b74450998f89cf09cb213d"
          }
        },
        "ed77b5ce18364759969e322614d80683": {
          "model_module": "@jupyter-widgets/output",
          "model_name": "OutputModel",
          "state": {
            "_view_name": "OutputView",
            "msg_id": "",
            "_dom_classes": [],
            "_model_name": "OutputModel",
            "outputs": [
              {
                "output_type": "stream",
                "metadata": {
                  "tags": []
                },
                "text": "Status: Optimal\nOkna_aluminiowe = 4.0\nOkna_drewniane = 12.0\nZysk wyniesie 72.0 zł  \n**********Shadow Prices**********\n       name  shadow price  slack\n0  Fabryka1          -0.0    0.1\n1  Fabryka2          -0.0    0.2\n2  Fabryka3          -0.0   -0.0\n",
                "stream": "stdout"
              }
            ],
            "_view_module": "@jupyter-widgets/output",
            "_model_module_version": "1.0.0",
            "_view_count": null,
            "_view_module_version": "1.0.0",
            "layout": "IPY_MODEL_cf3ba441a0194cb0b2b24f76f5a6ddea",
            "_model_module": "@jupyter-widgets/output"
          }
        },
        "9eb9509ee276462390acec7b81eb2c65": {
          "model_module": "@jupyter-widgets/controls",
          "model_name": "SliderStyleModel",
          "state": {
            "_view_name": "StyleView",
            "handle_color": null,
            "_model_name": "SliderStyleModel",
            "description_width": "initial",
            "_view_module": "@jupyter-widgets/base",
            "_model_module_version": "1.5.0",
            "_view_count": null,
            "_view_module_version": "1.2.0",
            "_model_module": "@jupyter-widgets/controls"
          }
        },
        "a8d4ecea2b7d49d489f7a1f1aa8b9f77": {
          "model_module": "@jupyter-widgets/base",
          "model_name": "LayoutModel",
          "state": {
            "_view_name": "LayoutView",
            "grid_template_rows": null,
            "right": null,
            "justify_content": null,
            "_view_module": "@jupyter-widgets/base",
            "overflow": null,
            "_model_module_version": "1.2.0",
            "_view_count": null,
            "flex_flow": null,
            "width": null,
            "min_width": null,
            "border": null,
            "align_items": null,
            "bottom": null,
            "_model_module": "@jupyter-widgets/base",
            "top": null,
            "grid_column": null,
            "overflow_y": null,
            "overflow_x": null,
            "grid_auto_flow": null,
            "grid_area": null,
            "grid_template_columns": null,
            "flex": null,
            "_model_name": "LayoutModel",
            "justify_items": null,
            "grid_row": null,
            "max_height": null,
            "align_content": null,
            "visibility": null,
            "align_self": null,
            "height": null,
            "min_height": null,
            "padding": null,
            "grid_auto_rows": null,
            "grid_gap": null,
            "max_width": null,
            "order": null,
            "_view_module_version": "1.2.0",
            "grid_template_areas": null,
            "object_position": null,
            "object_fit": null,
            "grid_auto_columns": null,
            "margin": null,
            "display": null,
            "left": null
          }
        },
        "0b0750f8003c468b8d63e2827123a144": {
          "model_module": "@jupyter-widgets/controls",
          "model_name": "SliderStyleModel",
          "state": {
            "_view_name": "StyleView",
            "handle_color": null,
            "_model_name": "SliderStyleModel",
            "description_width": "initial",
            "_view_module": "@jupyter-widgets/base",
            "_model_module_version": "1.5.0",
            "_view_count": null,
            "_view_module_version": "1.2.0",
            "_model_module": "@jupyter-widgets/controls"
          }
        },
        "c04af353617e47cbb2b90a0a0653665d": {
          "model_module": "@jupyter-widgets/base",
          "model_name": "LayoutModel",
          "state": {
            "_view_name": "LayoutView",
            "grid_template_rows": null,
            "right": null,
            "justify_content": null,
            "_view_module": "@jupyter-widgets/base",
            "overflow": null,
            "_model_module_version": "1.2.0",
            "_view_count": null,
            "flex_flow": null,
            "width": null,
            "min_width": null,
            "border": null,
            "align_items": null,
            "bottom": null,
            "_model_module": "@jupyter-widgets/base",
            "top": null,
            "grid_column": null,
            "overflow_y": null,
            "overflow_x": null,
            "grid_auto_flow": null,
            "grid_area": null,
            "grid_template_columns": null,
            "flex": null,
            "_model_name": "LayoutModel",
            "justify_items": null,
            "grid_row": null,
            "max_height": null,
            "align_content": null,
            "visibility": null,
            "align_self": null,
            "height": null,
            "min_height": null,
            "padding": null,
            "grid_auto_rows": null,
            "grid_gap": null,
            "max_width": null,
            "order": null,
            "_view_module_version": "1.2.0",
            "grid_template_areas": null,
            "object_position": null,
            "object_fit": null,
            "grid_auto_columns": null,
            "margin": null,
            "display": null,
            "left": null
          }
        },
        "ea63f4d219e84a8586bfb7aa021cb3fe": {
          "model_module": "@jupyter-widgets/controls",
          "model_name": "SliderStyleModel",
          "state": {
            "_view_name": "StyleView",
            "handle_color": null,
            "_model_name": "SliderStyleModel",
            "description_width": "initial",
            "_view_module": "@jupyter-widgets/base",
            "_model_module_version": "1.5.0",
            "_view_count": null,
            "_view_module_version": "1.2.0",
            "_model_module": "@jupyter-widgets/controls"
          }
        },
        "2ab0b88544a44a0dbbe7c1e94fc5acf7": {
          "model_module": "@jupyter-widgets/base",
          "model_name": "LayoutModel",
          "state": {
            "_view_name": "LayoutView",
            "grid_template_rows": null,
            "right": null,
            "justify_content": null,
            "_view_module": "@jupyter-widgets/base",
            "overflow": null,
            "_model_module_version": "1.2.0",
            "_view_count": null,
            "flex_flow": null,
            "width": null,
            "min_width": null,
            "border": null,
            "align_items": null,
            "bottom": null,
            "_model_module": "@jupyter-widgets/base",
            "top": null,
            "grid_column": null,
            "overflow_y": null,
            "overflow_x": null,
            "grid_auto_flow": null,
            "grid_area": null,
            "grid_template_columns": null,
            "flex": null,
            "_model_name": "LayoutModel",
            "justify_items": null,
            "grid_row": null,
            "max_height": null,
            "align_content": null,
            "visibility": null,
            "align_self": null,
            "height": null,
            "min_height": null,
            "padding": null,
            "grid_auto_rows": null,
            "grid_gap": null,
            "max_width": null,
            "order": null,
            "_view_module_version": "1.2.0",
            "grid_template_areas": null,
            "object_position": null,
            "object_fit": null,
            "grid_auto_columns": null,
            "margin": null,
            "display": null,
            "left": null
          }
        },
        "dd5725491e28415fb2584087fd736c04": {
          "model_module": "@jupyter-widgets/controls",
          "model_name": "SliderStyleModel",
          "state": {
            "_view_name": "StyleView",
            "handle_color": null,
            "_model_name": "SliderStyleModel",
            "description_width": "initial",
            "_view_module": "@jupyter-widgets/base",
            "_model_module_version": "1.5.0",
            "_view_count": null,
            "_view_module_version": "1.2.0",
            "_model_module": "@jupyter-widgets/controls"
          }
        },
        "a5bb1396291f4b90bb56744eddd4c7d9": {
          "model_module": "@jupyter-widgets/base",
          "model_name": "LayoutModel",
          "state": {
            "_view_name": "LayoutView",
            "grid_template_rows": null,
            "right": null,
            "justify_content": null,
            "_view_module": "@jupyter-widgets/base",
            "overflow": null,
            "_model_module_version": "1.2.0",
            "_view_count": null,
            "flex_flow": null,
            "width": null,
            "min_width": null,
            "border": null,
            "align_items": null,
            "bottom": null,
            "_model_module": "@jupyter-widgets/base",
            "top": null,
            "grid_column": null,
            "overflow_y": null,
            "overflow_x": null,
            "grid_auto_flow": null,
            "grid_area": null,
            "grid_template_columns": null,
            "flex": null,
            "_model_name": "LayoutModel",
            "justify_items": null,
            "grid_row": null,
            "max_height": null,
            "align_content": null,
            "visibility": null,
            "align_self": null,
            "height": null,
            "min_height": null,
            "padding": null,
            "grid_auto_rows": null,
            "grid_gap": null,
            "max_width": null,
            "order": null,
            "_view_module_version": "1.2.0",
            "grid_template_areas": null,
            "object_position": null,
            "object_fit": null,
            "grid_auto_columns": null,
            "margin": null,
            "display": null,
            "left": null
          }
        },
        "dafaef775dd4433bbd586cb3fcce9cca": {
          "model_module": "@jupyter-widgets/controls",
          "model_name": "SliderStyleModel",
          "state": {
            "_view_name": "StyleView",
            "handle_color": null,
            "_model_name": "SliderStyleModel",
            "description_width": "initial",
            "_view_module": "@jupyter-widgets/base",
            "_model_module_version": "1.5.0",
            "_view_count": null,
            "_view_module_version": "1.2.0",
            "_model_module": "@jupyter-widgets/controls"
          }
        },
        "61e4c74f2c7b4832b64e811e2d9264ad": {
          "model_module": "@jupyter-widgets/base",
          "model_name": "LayoutModel",
          "state": {
            "_view_name": "LayoutView",
            "grid_template_rows": null,
            "right": null,
            "justify_content": null,
            "_view_module": "@jupyter-widgets/base",
            "overflow": null,
            "_model_module_version": "1.2.0",
            "_view_count": null,
            "flex_flow": null,
            "width": null,
            "min_width": null,
            "border": null,
            "align_items": null,
            "bottom": null,
            "_model_module": "@jupyter-widgets/base",
            "top": null,
            "grid_column": null,
            "overflow_y": null,
            "overflow_x": null,
            "grid_auto_flow": null,
            "grid_area": null,
            "grid_template_columns": null,
            "flex": null,
            "_model_name": "LayoutModel",
            "justify_items": null,
            "grid_row": null,
            "max_height": null,
            "align_content": null,
            "visibility": null,
            "align_self": null,
            "height": null,
            "min_height": null,
            "padding": null,
            "grid_auto_rows": null,
            "grid_gap": null,
            "max_width": null,
            "order": null,
            "_view_module_version": "1.2.0",
            "grid_template_areas": null,
            "object_position": null,
            "object_fit": null,
            "grid_auto_columns": null,
            "margin": null,
            "display": null,
            "left": null
          }
        },
        "c632cc45b4804795be12c800fb42d14d": {
          "model_module": "@jupyter-widgets/controls",
          "model_name": "SliderStyleModel",
          "state": {
            "_view_name": "StyleView",
            "handle_color": null,
            "_model_name": "SliderStyleModel",
            "description_width": "initial",
            "_view_module": "@jupyter-widgets/base",
            "_model_module_version": "1.5.0",
            "_view_count": null,
            "_view_module_version": "1.2.0",
            "_model_module": "@jupyter-widgets/controls"
          }
        },
        "1efe8bcf61d14580a9d2bde53e731f93": {
          "model_module": "@jupyter-widgets/base",
          "model_name": "LayoutModel",
          "state": {
            "_view_name": "LayoutView",
            "grid_template_rows": null,
            "right": null,
            "justify_content": null,
            "_view_module": "@jupyter-widgets/base",
            "overflow": null,
            "_model_module_version": "1.2.0",
            "_view_count": null,
            "flex_flow": null,
            "width": null,
            "min_width": null,
            "border": null,
            "align_items": null,
            "bottom": null,
            "_model_module": "@jupyter-widgets/base",
            "top": null,
            "grid_column": null,
            "overflow_y": null,
            "overflow_x": null,
            "grid_auto_flow": null,
            "grid_area": null,
            "grid_template_columns": null,
            "flex": null,
            "_model_name": "LayoutModel",
            "justify_items": null,
            "grid_row": null,
            "max_height": null,
            "align_content": null,
            "visibility": null,
            "align_self": null,
            "height": null,
            "min_height": null,
            "padding": null,
            "grid_auto_rows": null,
            "grid_gap": null,
            "max_width": null,
            "order": null,
            "_view_module_version": "1.2.0",
            "grid_template_areas": null,
            "object_position": null,
            "object_fit": null,
            "grid_auto_columns": null,
            "margin": null,
            "display": null,
            "left": null
          }
        },
        "1c8663d6554f47b5aa1cc6a1789e179e": {
          "model_module": "@jupyter-widgets/controls",
          "model_name": "SliderStyleModel",
          "state": {
            "_view_name": "StyleView",
            "handle_color": null,
            "_model_name": "SliderStyleModel",
            "description_width": "initial",
            "_view_module": "@jupyter-widgets/base",
            "_model_module_version": "1.5.0",
            "_view_count": null,
            "_view_module_version": "1.2.0",
            "_model_module": "@jupyter-widgets/controls"
          }
        },
        "21b0ff3926aa47f69d682277390d8e4e": {
          "model_module": "@jupyter-widgets/base",
          "model_name": "LayoutModel",
          "state": {
            "_view_name": "LayoutView",
            "grid_template_rows": null,
            "right": null,
            "justify_content": null,
            "_view_module": "@jupyter-widgets/base",
            "overflow": null,
            "_model_module_version": "1.2.0",
            "_view_count": null,
            "flex_flow": null,
            "width": null,
            "min_width": null,
            "border": null,
            "align_items": null,
            "bottom": null,
            "_model_module": "@jupyter-widgets/base",
            "top": null,
            "grid_column": null,
            "overflow_y": null,
            "overflow_x": null,
            "grid_auto_flow": null,
            "grid_area": null,
            "grid_template_columns": null,
            "flex": null,
            "_model_name": "LayoutModel",
            "justify_items": null,
            "grid_row": null,
            "max_height": null,
            "align_content": null,
            "visibility": null,
            "align_self": null,
            "height": null,
            "min_height": null,
            "padding": null,
            "grid_auto_rows": null,
            "grid_gap": null,
            "max_width": null,
            "order": null,
            "_view_module_version": "1.2.0",
            "grid_template_areas": null,
            "object_position": null,
            "object_fit": null,
            "grid_auto_columns": null,
            "margin": null,
            "display": null,
            "left": null
          }
        },
        "be15c18500f04d40847790e7b9d419fc": {
          "model_module": "@jupyter-widgets/controls",
          "model_name": "SliderStyleModel",
          "state": {
            "_view_name": "StyleView",
            "handle_color": null,
            "_model_name": "SliderStyleModel",
            "description_width": "initial",
            "_view_module": "@jupyter-widgets/base",
            "_model_module_version": "1.5.0",
            "_view_count": null,
            "_view_module_version": "1.2.0",
            "_model_module": "@jupyter-widgets/controls"
          }
        },
        "7a89cbe66f6e445486ecf5c4f97c068b": {
          "model_module": "@jupyter-widgets/base",
          "model_name": "LayoutModel",
          "state": {
            "_view_name": "LayoutView",
            "grid_template_rows": null,
            "right": null,
            "justify_content": null,
            "_view_module": "@jupyter-widgets/base",
            "overflow": null,
            "_model_module_version": "1.2.0",
            "_view_count": null,
            "flex_flow": null,
            "width": null,
            "min_width": null,
            "border": null,
            "align_items": null,
            "bottom": null,
            "_model_module": "@jupyter-widgets/base",
            "top": null,
            "grid_column": null,
            "overflow_y": null,
            "overflow_x": null,
            "grid_auto_flow": null,
            "grid_area": null,
            "grid_template_columns": null,
            "flex": null,
            "_model_name": "LayoutModel",
            "justify_items": null,
            "grid_row": null,
            "max_height": null,
            "align_content": null,
            "visibility": null,
            "align_self": null,
            "height": null,
            "min_height": null,
            "padding": null,
            "grid_auto_rows": null,
            "grid_gap": null,
            "max_width": null,
            "order": null,
            "_view_module_version": "1.2.0",
            "grid_template_areas": null,
            "object_position": null,
            "object_fit": null,
            "grid_auto_columns": null,
            "margin": null,
            "display": null,
            "left": null
          }
        },
        "125ebf90161d40b6801e8115eca14865": {
          "model_module": "@jupyter-widgets/controls",
          "model_name": "SliderStyleModel",
          "state": {
            "_view_name": "StyleView",
            "handle_color": null,
            "_model_name": "SliderStyleModel",
            "description_width": "initial",
            "_view_module": "@jupyter-widgets/base",
            "_model_module_version": "1.5.0",
            "_view_count": null,
            "_view_module_version": "1.2.0",
            "_model_module": "@jupyter-widgets/controls"
          }
        },
        "3844f7ba18b74450998f89cf09cb213d": {
          "model_module": "@jupyter-widgets/base",
          "model_name": "LayoutModel",
          "state": {
            "_view_name": "LayoutView",
            "grid_template_rows": null,
            "right": null,
            "justify_content": null,
            "_view_module": "@jupyter-widgets/base",
            "overflow": null,
            "_model_module_version": "1.2.0",
            "_view_count": null,
            "flex_flow": null,
            "width": null,
            "min_width": null,
            "border": null,
            "align_items": null,
            "bottom": null,
            "_model_module": "@jupyter-widgets/base",
            "top": null,
            "grid_column": null,
            "overflow_y": null,
            "overflow_x": null,
            "grid_auto_flow": null,
            "grid_area": null,
            "grid_template_columns": null,
            "flex": null,
            "_model_name": "LayoutModel",
            "justify_items": null,
            "grid_row": null,
            "max_height": null,
            "align_content": null,
            "visibility": null,
            "align_self": null,
            "height": null,
            "min_height": null,
            "padding": null,
            "grid_auto_rows": null,
            "grid_gap": null,
            "max_width": null,
            "order": null,
            "_view_module_version": "1.2.0",
            "grid_template_areas": null,
            "object_position": null,
            "object_fit": null,
            "grid_auto_columns": null,
            "margin": null,
            "display": null,
            "left": null
          }
        },
        "cf3ba441a0194cb0b2b24f76f5a6ddea": {
          "model_module": "@jupyter-widgets/base",
          "model_name": "LayoutModel",
          "state": {
            "_view_name": "LayoutView",
            "grid_template_rows": null,
            "right": null,
            "justify_content": null,
            "_view_module": "@jupyter-widgets/base",
            "overflow": null,
            "_model_module_version": "1.2.0",
            "_view_count": null,
            "flex_flow": null,
            "width": null,
            "min_width": null,
            "border": null,
            "align_items": null,
            "bottom": null,
            "_model_module": "@jupyter-widgets/base",
            "top": null,
            "grid_column": null,
            "overflow_y": null,
            "overflow_x": null,
            "grid_auto_flow": null,
            "grid_area": null,
            "grid_template_columns": null,
            "flex": null,
            "_model_name": "LayoutModel",
            "justify_items": null,
            "grid_row": null,
            "max_height": null,
            "align_content": null,
            "visibility": null,
            "align_self": null,
            "height": null,
            "min_height": null,
            "padding": null,
            "grid_auto_rows": null,
            "grid_gap": null,
            "max_width": null,
            "order": null,
            "_view_module_version": "1.2.0",
            "grid_template_areas": null,
            "object_position": null,
            "object_fit": null,
            "grid_auto_columns": null,
            "margin": null,
            "display": null,
            "left": null
          }
        }
      }
    }
  },
  "cells": [
    {
      "cell_type": "markdown",
      "metadata": {
        "id": "view-in-github",
        "colab_type": "text"
      },
      "source": [
        "<a href=\"https://colab.research.google.com/github/Wozny614/mispy/blob/master/instalacja_pierwsze_cwiczenia_z_Pulp%2BProblem_okien_Dariusz_Wo%C5%BAnica_215369.ipynb\" target=\"_parent\"><img src=\"https://colab.research.google.com/assets/colab-badge.svg\" alt=\"Open In Colab\"/></a>"
      ]
    },
    {
      "cell_type": "code",
      "metadata": {
        "id": "BjX-mj9e8D5a"
      },
      "source": [
        "!pip install pulp\n",
        "\n",
        "!sudo apt-get install coinor-cbc glpk-utils coinor-clp\n"
      ],
      "execution_count": null,
      "outputs": []
    },
    {
      "cell_type": "code",
      "metadata": {
        "id": "HMGiufp89W-9",
        "colab": {
          "base_uri": "https://localhost:8080/"
        },
        "outputId": "6f06a7bf-3566-40b1-c7d2-4174784fc116"
      },
      "source": [
        "### kod sprawdza czy instalacja się udała\n",
        "import pulp\n",
        "\n",
        "print(pulp.__version__)"
      ],
      "execution_count": null,
      "outputs": [
        {
          "output_type": "stream",
          "text": [
            "2.3.1\n"
          ],
          "name": "stdout"
        }
      ]
    },
    {
      "cell_type": "code",
      "metadata": {
        "id": "05p9Frax-V2f"
      },
      "source": [
        "pulp.pulpTestAll()"
      ],
      "execution_count": null,
      "outputs": []
    },
    {
      "cell_type": "markdown",
      "metadata": {
        "id": "JHP3Y3Yh-stH"
      },
      "source": [
        "# Zadania:\n",
        "\n",
        "1. przeczytaj materiały dotyczące pulp ze strony internetowej https://coin-or.github.io/pulp/main/index.html oraz przejdź przez blending problem (przepisz do swojego notebooka)\n",
        "\n",
        "2. w blending problem dodaj zmienną decyzyjną. Stwórz zmienną która pojawi się w końcowym składzie produktu (tj. wartość zmiennej będzie miała niezerową postać)\n",
        "\n",
        "3. Dodaj ograniczenie co do zawartości witaminy B \n",
        "\n",
        "Zawartość:\n",
        "\n",
        "| Nazwa      | zawartość ug/100g |\n",
        "|------------|-------------------|\n",
        "| chicken    | 0.3               |\n",
        "| beef       | 2.6               |\n",
        "| mutton     | 2.6               |\n",
        "| rice       | 0                 |\n",
        "| wheat bran | 0                 |\n",
        "| gel        | 0                 |\n",
        "| sardines   | 8.9               |\n",
        "\n",
        "Kot ma zjeść minimum 0.24 ug na kilogram masy więc około\n",
        "0.8 ug dziennie\n",
        "\n",
        "4. Na końcu ma pojawiać się zdanie podsumowujące wynik, w stylu:\n",
        "Końcowy produkt będzie kosztować {}, będzie miał w składzie {nazwa}: {} %, {nastepna nazwa}: {} %\n",
        "\n",
        "Takie zdanie można skleić z części generowanych automatycznie:\n",
        "\n"
      ]
    },
    {
      "cell_type": "code",
      "metadata": {
        "id": "ELNE-rthXJQl"
      },
      "source": [
        "from pulp import *\n",
        "prob = LpProblem(\"The_Wiskas_Problem\",LpMinimize)\n",
        "\n",
        "x1 = LpVariable(\"ChickenPercent\",0,None,LpInteger)\n",
        "x2 = LpVariable(\"BeefPercent\",0)\n",
        "\n",
        "prob +=0.013*x1 + 0.008*x2,\"Total_cost_of_Ingredients_per_can\"\n",
        "\n",
        "prob += x1 + x2 == 100,\"PercentagesSum\"\n",
        "prob += 0.100*x1 + 0.200*x2 >= 8.0, \"ProteinRequirement\"\n",
        "prob += 0.080*x1 + 0.100*x2 >= 6.0, \"FatRequirement\"\n",
        "prob += 0.001*x1 + 0.006*x2 <= 2.0, \"FibreRequirement\"\n",
        "prob += 0.002*x1 + 0.005*x2 <= 0.4, \"SaltRequirement\"\n",
        "\n",
        "\n",
        "\n",
        "\n",
        "\n",
        "\n",
        "\n"
      ],
      "execution_count": null,
      "outputs": []
    },
    {
      "cell_type": "code",
      "metadata": {
        "id": "SMb8_JHLZBM3",
        "colab": {
          "base_uri": "https://localhost:8080/"
        },
        "outputId": "cc160a51-7d40-4af6-cd9b-3c2e71fe2b98"
      },
      "source": [
        "prob.writeLP(\"WhiskasModel.lp\")"
      ],
      "execution_count": null,
      "outputs": [
        {
          "output_type": "execute_result",
          "data": {
            "text/plain": [
              "[BeefPercent, ChickenPercent]"
            ]
          },
          "metadata": {
            "tags": []
          },
          "execution_count": 9
        }
      ]
    },
    {
      "cell_type": "code",
      "metadata": {
        "id": "DDTF5NQ4aet6",
        "colab": {
          "base_uri": "https://localhost:8080/"
        },
        "outputId": "93da3adb-2e3d-4bcc-a10f-8940127fed00"
      },
      "source": [
        "prob.solve()\n",
        "print(\"Status:\", LpStatus[prob.status])\n",
        "for v in prob.variables():\n",
        "  print(v.name,\"=\",v.varValue)"
      ],
      "execution_count": null,
      "outputs": [
        {
          "output_type": "stream",
          "text": [
            "Status: Optimal\n",
            "BeefPercent = 66.0\n",
            "ChickenPercent = 34.0\n"
          ],
          "name": "stdout"
        }
      ]
    },
    {
      "cell_type": "code",
      "metadata": {
        "id": "_r6O55bAbKk6",
        "colab": {
          "base_uri": "https://localhost:8080/",
          "height": 35
        },
        "outputId": "bd1a66fc-4419-4cb6-a0ac-c6c8d39f2d02"
      },
      "source": [
        "print(\"Total_Cost_of_Ingredients_per_can = \", value(prob.objective))"
      ],
      "execution_count": null,
      "outputs": [
        {
          "output_type": "stream",
          "text": [
            "Total_Cost_of_Ingredients_per_can =  0.97\n"
          ],
          "name": "stdout"
        }
      ]
    },
    {
      "cell_type": "markdown",
      "metadata": {
        "id": "YUTpsuCBjR1h"
      },
      "source": [
        "more complex problem"
      ]
    },
    {
      "cell_type": "code",
      "metadata": {
        "id": "w5TnwxBDiMcI",
        "colab": {
          "base_uri": "https://localhost:8080/"
        },
        "outputId": "366220c5-de88-4ae1-e82b-9447d3a22a80"
      },
      "source": [
        "from pulp import *\n",
        "\n",
        "Ingredients = ['CHICKEN','BEEF','MUTTON','RICE','WHEAT','GEL','SARDINES']\n",
        "\n",
        "costs = {'CHICKEN': 0.013,\n",
        "         'BEEF':0.008,\n",
        "         'MUTTON':0.010,\n",
        "         'RICE':0.002,\n",
        "         'WHEAT':0.005,\n",
        "         'GEL':0.001,\n",
        "         'SARDINES':0.001\n",
        "         }\n",
        "\n",
        "\n",
        "proteinPercent = {'CHICKEN': 0.100,\n",
        "                  'BEEF':0.200,\n",
        "                  'MUTTON':0.150,\n",
        "                  'RICE':0.000,\n",
        "                  'WHEAT':0.040,\n",
        "                  'GEL':0.000,\n",
        "         'SARDINES':0.1\n",
        "                  }\n",
        "\n",
        "\n",
        "fatPercent = {'CHICKEN': 0.080,\n",
        "              'BEEF':0.100,\n",
        "              'MUTTON':0.110,\n",
        "              'RICE':0.010,\n",
        "              'WHEAT':0.010,\n",
        "              'GEL':0.000,\n",
        "         'SARDINES':0.001\n",
        "              }   \n",
        "\n",
        "\n",
        "fibrePercent = {'CHICKEN': 0.001,\n",
        "                  'BEEF':0.005,\n",
        "                  'MUTTON':0.003,\n",
        "                  'RICE':0.100,\n",
        "                  'WHEAT':0.150,\n",
        "                  'GEL':0.000,\n",
        "         'SARDINES':0.001\n",
        "                  }\n",
        "\n",
        "\n",
        "saltPercent = {'CHICKEN': 0.002,\n",
        "                  'BEEF':0.005,\n",
        "                  'MUTTON':0.007,\n",
        "                  'RICE':0.002,\n",
        "                  'WHEAT':0.008,\n",
        "                  'GEL':0.000,\n",
        "         'SARDINES':0.006\n",
        "                  }\n",
        "\n",
        "vitaminBPercent = {'CHICKEN': 0.3e-8,\n",
        "                  'BEEF':2.6e-8,\n",
        "                  'MUTTON':2.6e-8,\n",
        "                  'RICE':0.000,\n",
        "                  'WHEAT':0.000,\n",
        "                  'GEL':0.000,\n",
        "                  'SARDINES':8.9e-8\n",
        "                  }\n",
        "\n",
        "prob = LpProblem(\"The_Whiskas_Problem\",LpMinimize)\n",
        "ingredient_vars = LpVariable.dicts(\"Ingr\",Ingredients,0)\n",
        "\n",
        "\n",
        "\n",
        "prob += lpSum([costs[i]*ingredient_vars[i] for i in Ingredients]), \"Total_Cost_of_Ingredients_per_can\"\n",
        "\n",
        "\n",
        "prob += lpSum([ingredient_vars[i] for i in Ingredients]) == 100, \"PercentagesSum\"\n",
        "prob += lpSum([proteinPercent[i] * ingredient_vars[i] for i in Ingredients]) >= 8.0, \"ProteinRequirement\"\n",
        "prob += lpSum([fatPercent[i] * ingredient_vars[i] for i in Ingredients]) >= 6.0, \"FatRequirement\"\n",
        "prob += lpSum([fibrePercent[i] * ingredient_vars[i] for i in Ingredients]) <= 2.0, \"FibreRequirement\"\n",
        "prob += lpSum([saltPercent[i] * ingredient_vars[i] for i in Ingredients]) <= 0.4, \"SaltRequirement\"\n",
        "prob += lpSum([vitaminBPercent[i] * ingredient_vars[i] for i in Ingredients]) >= 0.24e-8, \"VitaminBRequirement\"\n",
        "\n",
        "\n",
        "\n",
        "prob.solve()\n",
        "\n",
        "\n",
        "variables_value = []\n",
        "variables_name = []\n",
        "\n",
        "for i in range(len(Ingredients)):\n",
        "  variables_value.append(value(prob.variables()[i]))\n",
        "  variables_name.append(Ingredients[i])\n",
        "  \n",
        "sklejone_name_value = [\":\".join((str(name), str(value))) for name,value in zip(sorted(variables_name),variables_value)]\n",
        "sklejone_cale=\"%, \".join(sklejone_name_value)\n",
        "\n",
        "print(\"Końcowy produkt będzie kosztować \"+str(value(prob.objective))+\", będzie miał w składzie: \"+ str(sklejone_cale)+\"%\")"
      ],
      "execution_count": null,
      "outputs": [
        {
          "output_type": "stream",
          "text": [
            "Końcowy produkt będzie kosztować 0.518823532, będzie miał w składzie: BEEF:59.831933%, CHICKEN:0.0%, GEL:23.361345%, MUTTON:0.0%, RICE:0.0%, SARDINES:16.806723%, WHEAT:0.0%\n"
          ],
          "name": "stdout"
        }
      ]
    },
    {
      "cell_type": "code",
      "metadata": {
        "id": "S0AtQJ4alu5B"
      },
      "source": [
        ""
      ],
      "execution_count": null,
      "outputs": []
    },
    {
      "cell_type": "code",
      "metadata": {
        "id": "BhWf9b8IMJZ7",
        "colab": {
          "base_uri": "https://localhost:8080/",
          "height": 53
        },
        "outputId": "c4e437d7-32da-4e82-b320-cbbfe1a50941"
      },
      "source": [
        "sklejone_produkt_cena = [\":\".join((produkt, str(cena))) for produkt,cena in zip([\"jabłko\",\"banan\"],[5,10])]\n",
        "print(sklejone_produkt_cena)\n",
        "sklejona_calosc = \", \".join(sklejone_produkt_cena)\n",
        "\n",
        "print(sklejona_calosc)"
      ],
      "execution_count": null,
      "outputs": [
        {
          "output_type": "stream",
          "text": [
            "['jabłko:5', 'banan:10']\n",
            "jabłko:5, banan:10\n"
          ],
          "name": "stdout"
        }
      ]
    },
    {
      "cell_type": "code",
      "metadata": {
        "id": "NsCl7cgTHOhn"
      },
      "source": [
        ""
      ],
      "execution_count": null,
      "outputs": []
    },
    {
      "cell_type": "code",
      "metadata": {
        "id": "JzXey7sYFzIZ"
      },
      "source": [
        ""
      ],
      "execution_count": null,
      "outputs": []
    },
    {
      "cell_type": "markdown",
      "metadata": {
        "id": "mV_RF_maKBNe"
      },
      "source": [
        ""
      ]
    },
    {
      "cell_type": "markdown",
      "metadata": {
        "id": "2JJZ3eSuKMbO"
      },
      "source": [
        "# Problem okien\n"
      ]
    },
    {
      "cell_type": "code",
      "metadata": {
        "id": "QvbIdmEUKSjO",
        "colab": {
          "base_uri": "https://localhost:8080/"
        },
        "outputId": "d8c1cc45-ce0a-4210-c23f-6e2f0e7ec8ec"
      },
      "source": [
        "from pulp import *\n",
        "\n",
        "prob = LpProblem(\"Problem_Okien\",LpMaximize)\n",
        "\n",
        "x1 = LpVariable(\"Okna_aluminiowe\",0,None,LpInteger)\n",
        "x2 = LpVariable(\"Okna_drewniane\",0,None,LpInteger)\n",
        "\n",
        "\n",
        "prob += (3*x1+5*x2),\"Calkowity_zysk\"\n",
        "\n",
        "prob += 1*x1 + 0*x2 <= 4,\"Fabryka1\"\n",
        "prob += 0*x1 + 2*x2<= 12,\"Fabryka2\"\n",
        "prob += 3*x1 + 2*x2 <= 18,\"Fabryka3\"\n",
        "\n",
        "prob.solve()\n",
        "\n",
        "# The status of the solution is printed to the screen\n",
        "print(\"Status:\", LpStatus[prob.status])\n",
        "# Each of the variables is printed with it's resolved optimum value\n",
        "for v in prob.variables():\n",
        "    print(v.name, \"=\", v.varValue)\n",
        "print(\"Zysk wyniesie {}k zł  \".format( value(prob.objective)))\n"
      ],
      "execution_count": null,
      "outputs": [
        {
          "output_type": "stream",
          "text": [
            "Status: Optimal\n",
            "Okna_aluminiowe = 2.0\n",
            "Okna_drewniane = 6.0\n",
            "Zysk wyniesie 36.0k zł  \n"
          ],
          "name": "stdout"
        }
      ]
    },
    {
      "cell_type": "code",
      "metadata": {
        "id": "h1n6qrQCUP1d",
        "colab": {
          "base_uri": "https://localhost:8080/",
          "height": 489,
          "referenced_widgets": [
            "144942802b6245dda29dc2c5f1000ff4",
            "fa70e7e14b4f4c369e57202338edf552",
            "fbdf48d88db948b2a8525efad67286fb",
            "fbeb1ff5c3214703b308cc53923b866a",
            "75af759ed64c461d9e7d381f5113bac8",
            "65bed2510ec64badb49bd4e7c6e83d66",
            "b7e72adf1bea4bcfa27fc47b43e505c9",
            "0be203b2f2144d51a5b5a38fb353c478",
            "f719bf84be1247aa894ab9ce0cea5666",
            "6d0c904781a7486f8d4488ec908b53a2",
            "8167f82d57764868a62b0119c337e2f3",
            "ed77b5ce18364759969e322614d80683",
            "9eb9509ee276462390acec7b81eb2c65",
            "a8d4ecea2b7d49d489f7a1f1aa8b9f77",
            "0b0750f8003c468b8d63e2827123a144",
            "c04af353617e47cbb2b90a0a0653665d",
            "ea63f4d219e84a8586bfb7aa021cb3fe",
            "2ab0b88544a44a0dbbe7c1e94fc5acf7",
            "dd5725491e28415fb2584087fd736c04",
            "a5bb1396291f4b90bb56744eddd4c7d9",
            "dafaef775dd4433bbd586cb3fcce9cca",
            "61e4c74f2c7b4832b64e811e2d9264ad",
            "c632cc45b4804795be12c800fb42d14d",
            "1efe8bcf61d14580a9d2bde53e731f93",
            "1c8663d6554f47b5aa1cc6a1789e179e",
            "21b0ff3926aa47f69d682277390d8e4e",
            "be15c18500f04d40847790e7b9d419fc",
            "7a89cbe66f6e445486ecf5c4f97c068b",
            "125ebf90161d40b6801e8115eca14865",
            "3844f7ba18b74450998f89cf09cb213d",
            "cf3ba441a0194cb0b2b24f76f5a6ddea"
          ]
        },
        "outputId": "78f88b94-94c8-4cc2-d7b5-2dc6d32a73c6"
      },
      "source": [
        "from __future__ import print_function\n",
        "from ipywidgets import interact, interactive, fixed, interact_manual, Layout, FloatSlider, IntSlider\n",
        "import ipywidgets as widgets\n",
        "import pandas as pd\n",
        "\n",
        "style = {'description_width': 'initial'}\n",
        "\n",
        "\n",
        "fabryka1_x1_slider = FloatSlider(min=0,max = 5,value= 1, description=\"fabryka1_x1\", style= style )\n",
        "fabryka1_x2_slider = FloatSlider(min=0,max = 5,value= 1, description=\"fabryka1_x2\", style= style )\n",
        "fabryka2_x1_slider = FloatSlider(min=0,max = 5,value= 1, description=\"fabryka2_x1\", style= style )\n",
        "fabryka2_x2_slider = FloatSlider(min=0,max = 5,value= 1, description=\"fabryka2_x2\", style= style )\n",
        "fabryka3_x1_slider = FloatSlider(min=0,max = 5,value= 1, description=\"fabryka3_x1\", style= style )\n",
        "fabryka3_x2_slider = FloatSlider(min=0,max = 5,value= 1, description=\"fabryka3_x2\", style= style )\n",
        "fabryka1_max_h_slider = FloatSlider(min=0,max = 24,value= 1, description=\"fabryka1_max_h\", style= style )\n",
        "fabryka2_max_h_slider = FloatSlider(min=0,max = 24,value= 1, description=\"fabryka2_max_h\", style= style )\n",
        "fabryka3_max_h_slider = FloatSlider(min=0,max = 24,value= 1, description=\"fabryka3_max_h\", style= style )\n",
        "\n",
        "\n",
        "    \n",
        "def okna_produkcja(\n",
        "    fabryka1_max_h = 4,\n",
        "    fabryka1_x1 = 5,\n",
        "    fabryka1_x2 = 5,\n",
        "    fabryka2_max_h = 12,\n",
        "    fabryka2_x1 = 5,\n",
        "    fabryka2_x2 = 5,\n",
        "    fabryka3_max_h = 18,\n",
        "    fabryka3_x1 = 5,\n",
        "    fabryka3_x2 = 5):    \n",
        "    prob = LpProblem(\"Problem_Okien1\",LpMaximize)\n",
        "    # 2 zmienne\n",
        "\n",
        "    x1 = LpVariable(\"Okna_aluminiowe\",0,None,LpInteger)\n",
        "    x2 = LpVariable(\"Okna_drewniane\",0,None,LpInteger)\n",
        "\n",
        "\n",
        "    prob += 3*x1+5*x2,\"Calkowity_zysk\"\n",
        "    prob += fabryka1_x1*x1 <= fabryka1_max_h,\"Fabryka1\"\n",
        "    prob += fabryka2_x2*x2 <= fabryka2_max_h,\"Fabryka2\"\n",
        "    prob += (fabryka3_x1*x1) + (fabryka3_x2*x2) <= fabryka3_max_h,\"Fabryka3\"\n",
        "    prob.solve()\n",
        "    \n",
        "    # The status of the solution is printed to the screen\n",
        "    print(\"Status:\", LpStatus[prob.status])\n",
        "    # Each of the variables is printed with it's resolved optimum value\n",
        "    for v in prob.variables():\n",
        "        print(v.name, \"=\", v.varValue)\n",
        "    print(\"Zysk wyniesie {} zł  \".format(value(prob.objective)))\n",
        "    \n",
        "    shadows = [{'name':name, 'shadow price': c.pi, \"slack\": c.slack} for name, c in prob.constraints.items()]\n",
        "    print(\"*\"*10+\"Shadow Prices\"+\"*\"*10)\n",
        "    print(pd.DataFrame(shadows))\n",
        "    \n",
        "interact(okna_produkcja,\n",
        "    fabryka1_max_h = fabryka1_max_h_slider,\n",
        "    fabryka2_max_h = fabryka2_max_h_slider,\n",
        "    fabryka3_max_h = fabryka3_max_h_slider,\n",
        "    fabryka1_x1 = fabryka1_x1_slider,\n",
        "    fabryka1_x2 = fabryka1_x2_slider,\n",
        "    fabryka2_x1 = fabryka2_x1_slider,\n",
        "    fabryka2_x2 = fabryka2_x2_slider,\n",
        "    fabryka3_x1 = fabryka3_x1_slider,\n",
        "    fabryka3_x2 = fabryka3_x2_slider)"
      ],
      "execution_count": null,
      "outputs": [
        {
          "output_type": "display_data",
          "data": {
            "application/vnd.jupyter.widget-view+json": {
              "model_id": "144942802b6245dda29dc2c5f1000ff4",
              "version_minor": 0,
              "version_major": 2
            },
            "text/plain": [
              "interactive(children=(FloatSlider(value=1.0, description='fabryka1_max_h', max=24.0, style=SliderStyle(descrip…"
            ]
          },
          "metadata": {
            "tags": []
          }
        },
        {
          "output_type": "execute_result",
          "data": {
            "text/plain": [
              "<function __main__.okna_produkcja>"
            ]
          },
          "metadata": {
            "tags": []
          },
          "execution_count": 4
        }
      ]
    }
  ]
}