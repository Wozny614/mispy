{
  "nbformat": 4,
  "nbformat_minor": 0,
  "metadata": {
    "colab": {
      "name": "Titanic.ipynb",
      "provenance": [],
      "collapsed_sections": [],
      "mount_file_id": "1xskPVPtzSITf6qVGnyvLpYwUu4T9LpDS",
      "authorship_tag": "ABX9TyPW6/qy2T8zfjGMUSUtYG+/",
      "include_colab_link": true
    },
    "kernelspec": {
      "name": "python3",
      "display_name": "Python 3"
    }
  },
  "cells": [
    {
      "cell_type": "markdown",
      "metadata": {
        "id": "view-in-github",
        "colab_type": "text"
      },
      "source": [
        "<a href=\"https://colab.research.google.com/github/Wozny614/mispy/blob/master/Titanic.ipynb\" target=\"_parent\"><img src=\"https://colab.research.google.com/assets/colab-badge.svg\" alt=\"Open In Colab\"/></a>"
      ]
    },
    {
      "cell_type": "code",
      "metadata": {
        "id": "xEzUpIzqa0RN"
      },
      "source": [
        "import pandas as pd\r\n",
        "from sklearn.model_selection import train_test_split\r\n",
        "from sklearn.linear_model import LogisticRegression\r\n"
      ],
      "execution_count": 2,
      "outputs": []
    },
    {
      "cell_type": "code",
      "metadata": {
        "id": "9J50zU9Qa8-I"
      },
      "source": [
        "train = pd.read_csv('/content/drive/MyDrive/Colab Notebooks/train.csv')\r\n",
        "test = pd.read_csv('/content/drive/MyDrive/Colab Notebooks/test.csv')\r\n",
        "full = train.append(test, ignore_index=True)\r\n"
      ],
      "execution_count": 3,
      "outputs": []
    },
    {
      "cell_type": "code",
      "metadata": {
        "colab": {
          "base_uri": "https://localhost:8080/"
        },
        "id": "tj11Gt8ObTOw",
        "outputId": "969bf6ba-dfd4-4900-f5ff-cdeed510459a"
      },
      "source": [
        "full.describe()     # the information of only numbers\r\n",
        "full.info()         # the information of all variables"
      ],
      "execution_count": 4,
      "outputs": [
        {
          "output_type": "stream",
          "text": [
            "<class 'pandas.core.frame.DataFrame'>\n",
            "RangeIndex: 1309 entries, 0 to 1308\n",
            "Data columns (total 12 columns):\n",
            " #   Column       Non-Null Count  Dtype  \n",
            "---  ------       --------------  -----  \n",
            " 0   PassengerId  1309 non-null   int64  \n",
            " 1   Survived     891 non-null    float64\n",
            " 2   Pclass       1309 non-null   int64  \n",
            " 3   Name         1309 non-null   object \n",
            " 4   Sex          1309 non-null   object \n",
            " 5   Age          1046 non-null   float64\n",
            " 6   SibSp        1309 non-null   int64  \n",
            " 7   Parch        1309 non-null   int64  \n",
            " 8   Ticket       1309 non-null   object \n",
            " 9   Fare         1308 non-null   float64\n",
            " 10  Cabin        295 non-null    object \n",
            " 11  Embarked     1307 non-null   object \n",
            "dtypes: float64(3), int64(4), object(5)\n",
            "memory usage: 122.8+ KB\n"
          ],
          "name": "stdout"
        }
      ]
    },
    {
      "cell_type": "code",
      "metadata": {
        "id": "Hv2Wu9NTbWbU"
      },
      "source": [
        "full['Age'] = full['Age'].fillna(full['Age'].mean())\r\n",
        "full['Fare'] = full['Fare'].fillna(full['Fare'].mean())\r\n",
        "full['Embarked'] = full['Embarked'].fillna('S')\r\n",
        "full['Cabin'] = full['Cabin'].fillna('U')       # \"Unknown\""
      ],
      "execution_count": 6,
      "outputs": []
    },
    {
      "cell_type": "code",
      "metadata": {
        "id": "7IHWYi0Ed5Ji"
      },
      "source": [
        "sex_mapDict = {'male': 1, 'female': 0}\r\n",
        "full['Sex'] = full['Sex'].map(sex_mapDict)"
      ],
      "execution_count": 7,
      "outputs": []
    },
    {
      "cell_type": "code",
      "metadata": {
        "id": "iST1zyoAd-v0"
      },
      "source": [
        "embarkedDF = pd.get_dummies(full['Embarked'], prefix='Embarked')\r\n",
        "embarkedDF['PassengerId'] = full['PassengerId']\r\n",
        "full = pd.merge(full, embarkedDF, on='PassengerId')"
      ],
      "execution_count": 8,
      "outputs": []
    },
    {
      "cell_type": "code",
      "metadata": {
        "id": "i88LmcxkeAAb"
      },
      "source": [
        "\r\n",
        "\r\n",
        "PclassDF = pd.get_dummies(full['Pclass'], prefix='Pclass')\r\n",
        "PclassDF['PassengerId'] = full['PassengerId']\r\n",
        "full = pd.merge(full, PclassDF, on='PassengerId')\r\n",
        "\r\n"
      ],
      "execution_count": 9,
      "outputs": []
    },
    {
      "cell_type": "code",
      "metadata": {
        "id": "6lU5ZHqUeBQN"
      },
      "source": [
        "def getTitle(name):\r\n",
        "    str1 = name.split(',')[1]\r\n",
        "    str2 = str1.split('.')[0]\r\n",
        "    str3 = str2.strip()\r\n",
        "    return str3\r\n",
        "\r\n",
        "titleDF = pd.DataFrame()\r\n",
        "titleDF['Title'] = full['Name'].map(getTitle)\r\n",
        "title_mapDict = {\"Capt\":         \"Officer\",\r\n",
        "                 \"Col\":          \"Officer\",\r\n",
        "                 \"Major\":        \"Officer\",\r\n",
        "                 \"Jonkheer\":     \"Royalty\",\r\n",
        "                 \"Don\":          \"Royalty\",\r\n",
        "                 \"Sir\":          \"Royalty\",\r\n",
        "                 \"Dr\":           \"Officer\",\r\n",
        "                 \"Rev\":          \"Officer\",\r\n",
        "                 \"the Countess\": \"Royalty\",\r\n",
        "                 \"Dona\":         \"Royalty\",\r\n",
        "                 \"Mme\":          \"Mrs\",\r\n",
        "                 \"Mlle\":         \"Miss\",\r\n",
        "                 \"Ms\":           \"Mrs\",\r\n",
        "                 \"Mr\":           \"Mr\",\r\n",
        "                 \"Mrs\":          \"Mrs\",\r\n",
        "                 \"Miss\":         \"Miss\",\r\n",
        "                 \"Master\":       \"Master\",\r\n",
        "                 \"Lady\":         \"Royalty\"}\r\n",
        "titleDF['Title'] = titleDF['Title'].map(title_mapDict)\r\n",
        "titleDF = pd.get_dummies(titleDF['Title'])\r\n",
        "titleDF['PassengerId'] = full['PassengerId']\r\n",
        "full = pd.merge(full, titleDF, on='PassengerId')"
      ],
      "execution_count": 10,
      "outputs": []
    },
    {
      "cell_type": "code",
      "metadata": {
        "id": "_y9cMaP8eC80"
      },
      "source": [
        "cabinDF = pd.DataFrame()\r\n",
        "cabinDF['Cabin'] = full['Cabin'].map(lambda c: c[0])\r\n",
        "cabinDF = pd.get_dummies(cabinDF['Cabin'], prefix='Cabin')\r\n",
        "cabinDF['PassengerId'] = full['PassengerId']\r\n",
        "full = pd.merge(full, cabinDF, on='PassengerId')"
      ],
      "execution_count": 11,
      "outputs": []
    },
    {
      "cell_type": "code",
      "metadata": {
        "id": "ZT7NjDNAeEP1"
      },
      "source": [
        "familyDF = pd.DataFrame()\r\n",
        "familyDF['FamilySize'] = full['Parch'] + full['SibSp'] + 1\r\n",
        "familyDF['Family_Single'] = familyDF['FamilySize'].map(lambda s: 1 if (s == 1) else 0)\r\n",
        "familyDF['Family_Small'] = familyDF['FamilySize'].map(lambda s: 1 if (2 <= s <= 4) else 0)\r\n",
        "familyDF['Family_Large'] = familyDF['FamilySize'].map(lambda s: 1 if (s >= 5) else 0)\r\n",
        "familyDF['PassengerId'] = full['PassengerId']\r\n",
        "full = pd.merge(full, familyDF, on='PassengerId')"
      ],
      "execution_count": 12,
      "outputs": []
    },
    {
      "cell_type": "code",
      "metadata": {
        "colab": {
          "base_uri": "https://localhost:8080/"
        },
        "id": "QvRZfb_8eFzS",
        "outputId": "cad64800-2fae-451f-831f-c7501a1847c3"
      },
      "source": [
        "corrDF = full.corr()\r\n",
        "print(corrDF['Survived'].sort_values(ascending=False))\r\n",
        "full_X = full[['Mrs', 'Miss', 'Pclass_1', 'Family_Small', 'Fare', 'Family_Single', 'Pclass_3', 'Sex', 'Mr']]"
      ],
      "execution_count": 13,
      "outputs": [
        {
          "output_type": "stream",
          "text": [
            "Survived         1.000000\n",
            "Mrs              0.344935\n",
            "Miss             0.332795\n",
            "Pclass_1         0.285904\n",
            "Family_Small     0.279855\n",
            "Fare             0.257307\n",
            "Cabin_B          0.175095\n",
            "Embarked_C       0.168240\n",
            "Cabin_D          0.150716\n",
            "Cabin_E          0.145321\n",
            "Cabin_C          0.114652\n",
            "Pclass_2         0.093349\n",
            "Master           0.085221\n",
            "Parch            0.081629\n",
            "Cabin_F          0.057935\n",
            "Royalty          0.033391\n",
            "Cabin_A          0.022287\n",
            "FamilySize       0.016639\n",
            "Cabin_G          0.016040\n",
            "Embarked_Q       0.003650\n",
            "PassengerId     -0.005007\n",
            "Cabin_T         -0.026456\n",
            "Officer         -0.031316\n",
            "SibSp           -0.035322\n",
            "Age             -0.070323\n",
            "Family_Large    -0.125147\n",
            "Embarked_S      -0.149683\n",
            "Family_Single   -0.203367\n",
            "Cabin_U         -0.316912\n",
            "Pclass_3        -0.322308\n",
            "Pclass          -0.338481\n",
            "Sex             -0.543351\n",
            "Mr              -0.549199\n",
            "Name: Survived, dtype: float64\n"
          ],
          "name": "stdout"
        }
      ]
    },
    {
      "cell_type": "code",
      "metadata": {
        "id": "AEE4PrryeHNc"
      },
      "source": [
        "sourceRow = full['Survived'].count()\r\n",
        "source_X = full_X.loc[0:sourceRow-1, :]\r\n",
        "source_y = full.loc[0:sourceRow-1, 'Survived']\r\n",
        "predict_X = full_X.loc[sourceRow:, :]"
      ],
      "execution_count": 14,
      "outputs": []
    },
    {
      "cell_type": "code",
      "metadata": {
        "colab": {
          "base_uri": "https://localhost:8080/"
        },
        "id": "YKkTS8JreJTy",
        "outputId": "a202983e-fdbe-4049-a0ab-ac95d90b16d0"
      },
      "source": [
        "train_X, test_X, train_y, test_y = train_test_split(source_X, source_y, train_size=.8)\r\n",
        "model = LogisticRegression(solver='lbfgs', max_iter=1000)\r\n",
        "model.fit(train_X, train_y)\r\n",
        "print(model.score(test_X, test_y))"
      ],
      "execution_count": 15,
      "outputs": [
        {
          "output_type": "stream",
          "text": [
            "0.7932960893854749\n"
          ],
          "name": "stdout"
        }
      ]
    },
    {
      "cell_type": "code",
      "metadata": {
        "id": "4rM4DYcceKzI"
      },
      "source": [
        "predict_y = model.predict(predict_X).astype(int)\r\n",
        "passenger_Id = full.loc[sourceRow:, 'PassengerId']\r\n",
        "predictDF = pd.DataFrame({'PassengerId': passenger_Id,\r\n",
        "                          'Survived': predict_y})\r\n",
        "predictDF.to_csv('prediction1.csv', index=False)"
      ],
      "execution_count": 18,
      "outputs": []
    },
    {
      "cell_type": "code",
      "metadata": {
        "colab": {
          "base_uri": "https://localhost:8080/",
          "height": 424
        },
        "id": "kbOLihWWeMvJ",
        "outputId": "70c54f61-66c4-4621-daec-b882cacd34d3"
      },
      "source": [
        "pd.read_csv('/content/prediction1.csv')"
      ],
      "execution_count": 21,
      "outputs": [
        {
          "output_type": "execute_result",
          "data": {
            "text/html": [
              "<div>\n",
              "<style scoped>\n",
              "    .dataframe tbody tr th:only-of-type {\n",
              "        vertical-align: middle;\n",
              "    }\n",
              "\n",
              "    .dataframe tbody tr th {\n",
              "        vertical-align: top;\n",
              "    }\n",
              "\n",
              "    .dataframe thead th {\n",
              "        text-align: right;\n",
              "    }\n",
              "</style>\n",
              "<table border=\"1\" class=\"dataframe\">\n",
              "  <thead>\n",
              "    <tr style=\"text-align: right;\">\n",
              "      <th></th>\n",
              "      <th>PassengerId</th>\n",
              "      <th>Survived</th>\n",
              "    </tr>\n",
              "  </thead>\n",
              "  <tbody>\n",
              "    <tr>\n",
              "      <th>0</th>\n",
              "      <td>892</td>\n",
              "      <td>0</td>\n",
              "    </tr>\n",
              "    <tr>\n",
              "      <th>1</th>\n",
              "      <td>893</td>\n",
              "      <td>1</td>\n",
              "    </tr>\n",
              "    <tr>\n",
              "      <th>2</th>\n",
              "      <td>894</td>\n",
              "      <td>0</td>\n",
              "    </tr>\n",
              "    <tr>\n",
              "      <th>3</th>\n",
              "      <td>895</td>\n",
              "      <td>0</td>\n",
              "    </tr>\n",
              "    <tr>\n",
              "      <th>4</th>\n",
              "      <td>896</td>\n",
              "      <td>1</td>\n",
              "    </tr>\n",
              "    <tr>\n",
              "      <th>...</th>\n",
              "      <td>...</td>\n",
              "      <td>...</td>\n",
              "    </tr>\n",
              "    <tr>\n",
              "      <th>413</th>\n",
              "      <td>1305</td>\n",
              "      <td>0</td>\n",
              "    </tr>\n",
              "    <tr>\n",
              "      <th>414</th>\n",
              "      <td>1306</td>\n",
              "      <td>1</td>\n",
              "    </tr>\n",
              "    <tr>\n",
              "      <th>415</th>\n",
              "      <td>1307</td>\n",
              "      <td>0</td>\n",
              "    </tr>\n",
              "    <tr>\n",
              "      <th>416</th>\n",
              "      <td>1308</td>\n",
              "      <td>0</td>\n",
              "    </tr>\n",
              "    <tr>\n",
              "      <th>417</th>\n",
              "      <td>1309</td>\n",
              "      <td>0</td>\n",
              "    </tr>\n",
              "  </tbody>\n",
              "</table>\n",
              "<p>418 rows × 2 columns</p>\n",
              "</div>"
            ],
            "text/plain": [
              "     PassengerId  Survived\n",
              "0            892         0\n",
              "1            893         1\n",
              "2            894         0\n",
              "3            895         0\n",
              "4            896         1\n",
              "..           ...       ...\n",
              "413         1305         0\n",
              "414         1306         1\n",
              "415         1307         0\n",
              "416         1308         0\n",
              "417         1309         0\n",
              "\n",
              "[418 rows x 2 columns]"
            ]
          },
          "metadata": {
            "tags": []
          },
          "execution_count": 21
        }
      ]
    }
  ]
}