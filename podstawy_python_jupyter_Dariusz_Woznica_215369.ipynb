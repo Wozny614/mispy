{
  "nbformat": 4,
  "nbformat_minor": 0,
  "metadata": {
    "kernelspec": {
      "display_name": "Python 3",
      "language": "python",
      "name": "python3"
    },
    "language_info": {
      "codemirror_mode": {
        "name": "ipython",
        "version": 3
      },
      "file_extension": ".py",
      "mimetype": "text/x-python",
      "name": "python",
      "nbconvert_exporter": "python",
      "pygments_lexer": "ipython3",
      "version": "3.7.3"
    },
    "colab": {
      "name": "podstawy_python_jupyter_Dariusz_Woznica_215369.ipynb",
      "provenance": [],
      "collapsed_sections": [],
      "include_colab_link": true
    }
  },
  "cells": [
    {
      "cell_type": "markdown",
      "metadata": {
        "id": "view-in-github",
        "colab_type": "text"
      },
      "source": [
        "<a href=\"https://colab.research.google.com/github/Wozny614/mispy/blob/master/podstawy_python_jupyter_Dariusz_Woznica_215369.ipynb\" target=\"_parent\"><img src=\"https://colab.research.google.com/assets/colab-badge.svg\" alt=\"Open In Colab\"/></a>"
      ]
    },
    {
      "cell_type": "markdown",
      "metadata": {
        "id": "8215zqGJb0UN"
      },
      "source": [
        "# Challenge\r\n"
      ]
    },
    {
      "cell_type": "code",
      "metadata": {
        "id": "F0roCPFsIMYD",
        "colab": {
          "base_uri": "https://localhost:8080/",
          "height": 182
        },
        "outputId": "4ad21467-a768-439f-f1a9-0b5590e58552"
      },
      "source": [
        "#### challenge 0.1\n",
        "print(\"challenge 0.1\")\n",
        "zajecia = [\"wf\",\"informatyka\",\"relax\",\"mispy\",\"piateczek\"]\n",
        "dnityg= [\"Pon\",\"Wto\",\"Sro\",\"Czwar\",\"Pio\"]\n",
        "\n",
        "# wyprintuj zajecia od srody do piatku\n",
        "for dni in dnityg[2:]:\n",
        "  print (dni,zajecia)\n",
        "print(\"--\"*20)  \n",
        "# wyprintuj oprocz srody\n",
        "for dni in dnityg:\n",
        "  if dni != \"Sro\":\n",
        "    print(dni,zajecia)"
      ],
      "execution_count": null,
      "outputs": [
        {
          "output_type": "stream",
          "text": [
            "chllenge 0.1\n",
            "Sro ['wf', 'informatyka', 'relax', 'mispy', 'piateczek']\n",
            "Czwar ['wf', 'informatyka', 'relax', 'mispy', 'piateczek']\n",
            "Pio ['wf', 'informatyka', 'relax', 'mispy', 'piateczek']\n",
            "----------------------------------------\n",
            "Pon ['wf', 'informatyka', 'relax', 'mispy', 'piateczek']\n",
            "Wto ['wf', 'informatyka', 'relax', 'mispy', 'piateczek']\n",
            "Czwar ['wf', 'informatyka', 'relax', 'mispy', 'piateczek']\n",
            "Pio ['wf', 'informatyka', 'relax', 'mispy', 'piateczek']\n"
          ],
          "name": "stdout"
        }
      ]
    },
    {
      "cell_type": "code",
      "metadata": {
        "id": "2wTr41VHIMYI",
        "colab": {
          "base_uri": "https://localhost:8080/",
          "height": 256
        },
        "outputId": "f0690442-01be-484c-c03e-614dcbbc2dff"
      },
      "source": [
        "#### challenge 0.2\n",
        "print(\"challenge 0.2\")\n",
        "zajecia = [[\"wf\"],\n",
        "           [\"informatyka\", \"nauka czytania\"],\n",
        "           [\"relax\", \"jedzenie\"],\n",
        "           [\"mispy\",\"mispy w domu\"],\n",
        "           [\"piateczek\", \"praca domowa z mispow\", \"Ilovemispy\", \"mispy w czasie snu\"]\n",
        "          ]\n",
        "\n",
        "dnityg= [\"Pon\",\"Wto\",\"Sro\",\"Czwar\",\"Pio\"]\n",
        "\n",
        "# zdefiniuj funkcje ktora poda ile jest zajec danego dnia\n",
        "def zaj_na_dzien (dzien):\n",
        "  for dni,zaj in zip(dnityg,zajecia):\n",
        "    if dzien==dni:\n",
        "      print(dni,len(zaj))\n",
        "\n",
        "print (zaj_na_dzien(\"Pio\"))\n",
        "print(\"--\"*20)   \n",
        "\n",
        "\n",
        "# lista_zajec_z_dnia -> ile ich jest\n",
        "def lista_zajec_z_dnia (dzien):\n",
        "  for dni,zaj in zip (dnityg,zajecia):\n",
        "    if dzien==dni:\n",
        "     print(zaj,len(zaj))\n",
        "\n",
        "print(lista_zajec_z_dnia(\"Pio\"))\n",
        "print(\"--\"*20)   \n",
        "\n",
        "# po\n",
        "# posortuj dni po najbardziej zajetych\n",
        "lista_dzien_zajecia = list (zip(dnityg,zajecia))\n",
        "print(\"nieposortowane\",dnityg)\n",
        "print(\"posortowane\",[x[0] for x in sorted(lista_dzien_zajecia,key= lambda x: len(x[1]),reverse=True)])\n",
        "print(\"--\"*20)"
      ],
      "execution_count": null,
      "outputs": [
        {
          "output_type": "stream",
          "text": [
            "challenge 0.2\n",
            "Pio 4\n",
            "None\n",
            "----------------------------------------\n",
            "['piateczek', 'praca domowa z mispow', 'Ilovemispy', 'mispy w czasie snu'] 4\n",
            "None\n",
            "----------------------------------------\n",
            "nieposortowane ['Pon', 'Wto', 'Sro', 'Czwar', 'Pio']\n",
            "posortowane ['Pio', 'Wto', 'Sro', 'Czwar', 'Pon']\n",
            "----------------------------------------\n",
            "challenge 0.3\n",
            "Pio 3\n",
            "Pio\n"
          ],
          "name": "stdout"
        }
      ]
    },
    {
      "cell_type": "code",
      "metadata": {
        "id": "TRjrwXCEcDDS"
      },
      "source": [
        "#### challenge 0.3\r\n",
        "print(\"challenge 0.3\")\r\n",
        "# napisz program ktory znajdzie dzien z najwieksza iloscia mispow\r\n",
        "ilosc_mispow = [0]* len(dnityg)   #stworzenie tablicy o długości ilosci dni\r\n",
        "for x in range(0,len(zajecia)):   # fory aby znaleźć misp w zajeciach\r\n",
        "  for y in range (0,len(zajecia[x])):\r\n",
        "    if(\"misp\" in zajecia[x][y]):\r\n",
        "     ilosc_mispow[x]=ilosc_mispow[x]+1 #inkrementacja do tablicy ilosc_mispow aby zliczac wystąpienia\r\n",
        "id_max_mispow = ilosc_mispow.index(max(ilosc_mispow)) #\r\n",
        "print(dnityg[id_max_mispow],max(ilosc_mispow))\r\n",
        "\r\n",
        "#challene 3.0 roz\r\n",
        "def ile_mispow(zajecia):\r\n",
        "  ile_misp = 0\r\n",
        "  for zajecie in zajecia:\r\n",
        "    if \"misp\" in zajecie:\r\n",
        "      ile_misp +=1\r\n",
        "  return ile_misp\r\n",
        "\r\n",
        "najwiecej = max(zajecia,key = ile_mispow)\r\n",
        "polaczenie = zip(zajecia,dnityg)\r\n",
        "\r\n",
        "max(zajecia,key = ile_mispow)\r\n",
        "max(polaczenie, key =lambda para:ile_mispow(para[0]))\r\n",
        "print(dnityg[zajecia.index(najwiecej)])"
      ],
      "execution_count": null,
      "outputs": []
    }
  ]
}