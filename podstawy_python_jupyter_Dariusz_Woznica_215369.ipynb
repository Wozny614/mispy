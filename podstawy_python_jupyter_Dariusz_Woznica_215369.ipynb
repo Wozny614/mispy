{
  "nbformat": 4,
  "nbformat_minor": 0,
  "metadata": {
    "kernelspec": {
      "display_name": "Python 3",
      "language": "python",
      "name": "python3"
    },
    "language_info": {
      "codemirror_mode": {
        "name": "ipython",
        "version": 3
      },
      "file_extension": ".py",
      "mimetype": "text/x-python",
      "name": "python",
      "nbconvert_exporter": "python",
      "pygments_lexer": "ipython3",
      "version": "3.7.3"
    },
    "colab": {
      "name": "podstawy_python_jupyter_Dariusz_Woznica_215369.ipynb",
      "provenance": [],
      "collapsed_sections": [],
      "include_colab_link": true
    }
  },
  "cells": [
    {
      "cell_type": "markdown",
      "metadata": {
        "id": "view-in-github",
        "colab_type": "text"
      },
      "source": [
        "<a href=\"https://colab.research.google.com/github/Wozny614/mispy/blob/master/podstawy_python_jupyter_Dariusz_Woznica_215369.ipynb\" target=\"_parent\"><img src=\"https://colab.research.google.com/assets/colab-badge.svg\" alt=\"Open In Colab\"/></a>"
      ]
    },
    {
      "cell_type": "markdown",
      "metadata": {
        "id": "8215zqGJb0UN"
      },
      "source": [
        "# Challenge\r\n"
      ]
    },
    {
      "cell_type": "markdown",
      "metadata": {
        "id": "CA9Larq_VCTf"
      },
      "source": [
        "Challenge 0.1\r\n",
        "\r\n",
        "W tym zadaniu należało wypisać zajęcia dla:\r\n",
        "- dni od środy do piątku\r\n",
        "- wszystkich dni oprócz środy\r\n",
        "\r\n",
        "Dla pierwszego przypadku zastosowano pętlę for zaczynając od dnia środy.\r\n",
        "\r\n",
        "Dla drugiego tak samo zastosowano pętlę for ale tym razem zaczynając od pierwszego dnia oraz warunek wykluczający dzień środę"
      ]
    },
    {
      "cell_type": "code",
      "metadata": {
        "id": "F0roCPFsIMYD",
        "colab": {
          "base_uri": "https://localhost:8080/"
        },
        "outputId": "cfd038a2-ccfc-4417-9dee-27dd043f2993"
      },
      "source": [
        "#### challenge 0.1\n",
        "print(\"challenge 0.1\")\n",
        "zajecia = [\"wf\",\"informatyka\",\"relax\",\"mispy\",\"piateczek\"]\n",
        "dnityg= [\"Pon\",\"Wto\",\"Sro\",\"Czwar\",\"Pio\"]\n",
        "\n",
        "# wyprintuj zajecia od srody do piatku\n",
        "for dni in dnityg[2:]:\n",
        "  print (dni,zajecia)\n",
        "print(\"--\"*20)  \n",
        "# wyprintuj oprocz srody\n",
        "for dni in dnityg:\n",
        "  if dni != \"Sro\":\n",
        "    print(dni,zajecia)"
      ],
      "execution_count": 7,
      "outputs": [
        {
          "output_type": "stream",
          "text": [
            "challenge 0.1\n",
            "Sro ['wf', 'informatyka', 'relax', 'mispy', 'piateczek']\n",
            "Czwar ['wf', 'informatyka', 'relax', 'mispy', 'piateczek']\n",
            "Pio ['wf', 'informatyka', 'relax', 'mispy', 'piateczek']\n",
            "----------------------------------------\n",
            "Pon ['wf', 'informatyka', 'relax', 'mispy', 'piateczek']\n",
            "Wto ['wf', 'informatyka', 'relax', 'mispy', 'piateczek']\n",
            "Czwar ['wf', 'informatyka', 'relax', 'mispy', 'piateczek']\n",
            "Pio ['wf', 'informatyka', 'relax', 'mispy', 'piateczek']\n"
          ],
          "name": "stdout"
        }
      ]
    },
    {
      "cell_type": "markdown",
      "metadata": {
        "id": "RlpQa-sVWMaN"
      },
      "source": [
        "Challenge 0.2\r\n"
      ]
    },
    {
      "cell_type": "markdown",
      "metadata": {
        "id": "sA1lOAK2W5JC"
      },
      "source": [
        "Celem tego zadania było napisanie funkcji: \r\n",
        "- zwracającej liczbę odpowiadającą ilości zajęć w danym dniu\r\n",
        "- zwracającej zajęcia w danym dniu oraz ich ilość\r\n",
        "\r\n",
        "oraz posortowanie dni po najbardziej zajętych\r\n",
        "\r\n",
        "W celu przypisania każdemu dniu swojego planu wykorzystujemy funkcję *zip* a następnie sprawdzamy długość/ilość elementów wybranego dnia funkcją *len*\r\n",
        "\r\n",
        "Z tak utworzonej paczki: dzień | plan na podstawie wybranego dnia wypisujemy odpowiadający mu plan\r\n",
        "\r\n",
        "Do posortowania dni po najbardziej zajętych posłużyła funkcja *sorted* z kluczem *key* sprawdzającym ilość zajęć w danym dniu"
      ]
    },
    {
      "cell_type": "code",
      "metadata": {
        "id": "2wTr41VHIMYI",
        "colab": {
          "base_uri": "https://localhost:8080/"
        },
        "outputId": "5ba1c05c-6517-4896-c26e-3441d18a31d1"
      },
      "source": [
        "#### challenge 0.2\n",
        "print(\"challenge 0.2\")\n",
        "zajecia = [[\"wf\"],\n",
        "           [\"informatyka\", \"nauka czytania\",\"cos\"],\n",
        "           [\"relax\", \"jedzenie\"],\n",
        "           [\"mispy\",\"mispy w domu\"],\n",
        "           [\"piateczek\", \"praca domowa z mispow\", \"Ilovemispy\", \"mispy w czasie snu\"]\n",
        "          ]\n",
        "\n",
        "dnityg= [\"Pon\",\"Wto\",\"Sro\",\"Czwar\",\"Pio\"]\n",
        "\n",
        "# zdefiniuj funkcje ktora poda ile jest zajec danego dnia\n",
        "def zaj_na_dzien (dzien):\n",
        "  for dni,zaj in zip(dnityg,zajecia):\n",
        "    if dzien==dni:\n",
        "      print(dni,len(zaj))\n",
        "\n",
        "zaj_na_dzien(\"Pio\")\n",
        "print(\"--\"*20)   \n",
        "\n",
        "\n",
        "# lista_zajec_z_dnia -> ile ich jest\n",
        "def lista_zajec_z_dnia (dzien):\n",
        "  for dni,zaj in zip (dnityg,zajecia):\n",
        "    if dzien==dni:\n",
        "     print(zaj,len(zaj))\n",
        "\n",
        "lista_zajec_z_dnia(\"Pio\")\n",
        "print(\"--\"*20)   \n",
        "\n",
        "# po\n",
        "# posortuj dni po najbardziej zajetych\n",
        "lista_dzien_zajecia = list (zip(dnityg,zajecia))\n",
        "print(\"nieposortowane\",dnityg)\n",
        "print(\"posortowane\",[x[0] for x in sorted(lista_dzien_zajecia,key= lambda x: len(x[1]),reverse=True)])\n",
        "print(\"--\"*20)"
      ],
      "execution_count": 8,
      "outputs": [
        {
          "output_type": "stream",
          "text": [
            "challenge 0.2\n",
            "Pio 4\n",
            "----------------------------------------\n",
            "['piateczek', 'praca domowa z mispow', 'Ilovemispy', 'mispy w czasie snu'] 4\n",
            "----------------------------------------\n",
            "nieposortowane ['Pon', 'Wto', 'Sro', 'Czwar', 'Pio']\n",
            "posortowane ['Pio', 'Wto', 'Sro', 'Czwar', 'Pon']\n",
            "----------------------------------------\n"
          ],
          "name": "stdout"
        }
      ]
    },
    {
      "cell_type": "markdown",
      "metadata": {
        "id": "gG6YGSsPZ6Bc"
      },
      "source": [
        "Challenge 0.3\r\n",
        "\r\n",
        "W tym zadaniu należało napisać program który szuka dnia z największą ilością mispów w planie. Wykorzystujemy tutaj sprawdzenie dla każdego dnia, dla każdego zajęcia, wystąpienia tekstu \"misp\", oraz zliczamy jego wystąpienie dla każdego dnia.\r\n",
        "\r\n",
        "Stworzona została tablica o długości równej ilości dni, do której każdemu dniu będzie przypisywana wartość występienia tego tekstu, a następnie na podstawie indeksu z maksymalną wartością będzie wypisywany dzień posiadający maksymalną ilość mispów.\r\n",
        "\r\n",
        "Sprawdzanie wystąpienia tekstu \"misp\" musi odbywać się dla każdego elementu a nie na całej tablicy. Gdyż sprawdzając na tablicy sprawdzamy czy występuje tam cały wyraz \"misp\" a nie jego część. "
      ]
    },
    {
      "cell_type": "code",
      "metadata": {
        "id": "TRjrwXCEcDDS",
        "colab": {
          "base_uri": "https://localhost:8080/"
        },
        "outputId": "28f1170e-8432-4ac4-cd80-25824df4af73"
      },
      "source": [
        "#### challenge 0.3\r\n",
        "print(\"challenge 0.3\")\r\n",
        "# napisz program ktory znajdzie dzien z najwieksza iloscia mispow\r\n",
        "ilosc_mispow = [0]* len(dnityg)   #stworzenie tablicy o długości ilosci dni\r\n",
        "for x in range(0,len(zajecia)):   # fory aby znaleźć misp w zajeciach\r\n",
        "  for y in range (0,len(zajecia[x])):\r\n",
        "    if(\"misp\" in zajecia[x][y]):\r\n",
        "     ilosc_mispow[x]=ilosc_mispow[x]+1 #inkrementacja do tablicy ilosc_mispow aby zliczac wystąpienia\r\n",
        "id_max_mispow = ilosc_mispow.index(max(ilosc_mispow)) #\r\n",
        "print(dnityg[id_max_mispow],max(ilosc_mispow))\r\n",
        "\r\n"
      ],
      "execution_count": 9,
      "outputs": [
        {
          "output_type": "stream",
          "text": [
            "challenge 0.3\n",
            "Pio 3\n"
          ],
          "name": "stdout"
        }
      ]
    }
  ]
}