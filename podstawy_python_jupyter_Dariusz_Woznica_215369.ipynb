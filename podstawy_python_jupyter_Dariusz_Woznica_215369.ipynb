{
  "nbformat": 4,
  "nbformat_minor": 0,
  "metadata": {
    "kernelspec": {
      "display_name": "Python 3",
      "language": "python",
      "name": "python3"
    },
    "language_info": {
      "codemirror_mode": {
        "name": "ipython",
        "version": 3
      },
      "file_extension": ".py",
      "mimetype": "text/x-python",
      "name": "python",
      "nbconvert_exporter": "python",
      "pygments_lexer": "ipython3",
      "version": "3.7.3"
    },
    "colab": {
      "name": "podstawy_python_jupyter_Dariusz_Woznica_215369.ipynb",
      "provenance": [],
      "collapsed_sections": [],
      "include_colab_link": true
    }
  },
  "cells": [
    {
      "cell_type": "markdown",
      "metadata": {
        "id": "view-in-github",
        "colab_type": "text"
      },
      "source": [
        "<a href=\"https://colab.research.google.com/github/Wozny614/mispy/blob/master/podstawy_python_jupyter_Dariusz_Woznica_215369.ipynb\" target=\"_parent\"><img src=\"https://colab.research.google.com/assets/colab-badge.svg\" alt=\"Open In Colab\"/></a>"
      ]
    },
    {
      "cell_type": "markdown",
      "metadata": {
        "id": "NICgT5w7blln"
      },
      "source": [
        "# Ćwiczenia\r\n"
      ]
    },
    {
      "cell_type": "code",
      "metadata": {
        "id": "8ai7i0HVIMW0",
        "colab": {
          "base_uri": "https://localhost:8080/",
          "height": 35
        },
        "outputId": "1755f14f-504d-4f4d-8e27-b8ff26b18eea"
      },
      "source": [
        "# Dariusz Woźnica 215369\n",
        "\n",
        "# if\n",
        "\n",
        "wielkosc = 5\n",
        "\n",
        "print(wielkosc)"
      ],
      "execution_count": null,
      "outputs": [
        {
          "output_type": "stream",
          "text": [
            "5\n"
          ],
          "name": "stdout"
        }
      ]
    },
    {
      "cell_type": "code",
      "metadata": {
        "id": "MM_XgX6WIMW-",
        "colab": {
          "base_uri": "https://localhost:8080/",
          "height": 35
        },
        "outputId": "b3497bfe-b6a7-4ae3-9696-bc6dda17cc6b"
      },
      "source": [
        "if wielkosc >6:\n",
        "    print(\"ale duze\")\n",
        "elif wielkosc < 3:\n",
        "    print(\"malutkie\")\n",
        "    print('franek')\n",
        "else:\n",
        "    print(\"w sam raz\")"
      ],
      "execution_count": null,
      "outputs": [
        {
          "output_type": "stream",
          "text": [
            "w sam raz\n"
          ],
          "name": "stdout"
        }
      ]
    },
    {
      "cell_type": "code",
      "metadata": {
        "id": "0hYYSHneIMXJ",
        "colab": {
          "base_uri": "https://localhost:8080/",
          "height": 35
        },
        "outputId": "f00cf4eb-d30d-4a36-dea2-4daa93b273e8"
      },
      "source": [
        "studenci = [\"Ania\", \"Zosia\", \"Kasia\", \"Franek\"]\n",
        "\n",
        "print(studenci)"
      ],
      "execution_count": null,
      "outputs": [
        {
          "output_type": "stream",
          "text": [
            "['Ania', 'Zosia', 'Kasia', 'Franek']\n"
          ],
          "name": "stdout"
        }
      ]
    },
    {
      "cell_type": "code",
      "metadata": {
        "id": "EgPSgojsIMXQ",
        "colab": {
          "base_uri": "https://localhost:8080/",
          "height": 36
        },
        "outputId": "c94da7ed-edf5-4f8b-eb29-dc346d012136"
      },
      "source": [
        "studenci[0][1]"
      ],
      "execution_count": null,
      "outputs": [
        {
          "output_type": "execute_result",
          "data": {
            "application/vnd.google.colaboratory.intrinsic+json": {
              "type": "string"
            },
            "text/plain": [
              "'n'"
            ]
          },
          "metadata": {
            "tags": []
          },
          "execution_count": 11
        }
      ]
    },
    {
      "cell_type": "code",
      "metadata": {
        "scrolled": true,
        "id": "gASh-CBVIMXX",
        "colab": {
          "base_uri": "https://localhost:8080/",
          "height": 182
        },
        "outputId": "7a778ed6-a4f7-41fb-e1da-85baf5d2f6bf"
      },
      "source": [
        "for student in studenci:\n",
        "    print(\"student ma na imie:\", student)\n",
        "    \n",
        "   \n",
        "for student in studenci:\n",
        "    print(student)\n",
        "    if student[0]==\"A\":\n",
        "        print(\"student na poczatku alfabetu\")"
      ],
      "execution_count": null,
      "outputs": [
        {
          "output_type": "stream",
          "text": [
            "student ma na imie: Ania\n",
            "student ma na imie: Zosia\n",
            "student ma na imie: Kasia\n",
            "student ma na imie: Franek\n",
            "Ania\n",
            "student na poczatku alfabetu\n",
            "Zosia\n",
            "Kasia\n",
            "Franek\n"
          ],
          "name": "stdout"
        }
      ]
    },
    {
      "cell_type": "code",
      "metadata": {
        "id": "y5skpiInIMXe",
        "outputId": "f6696d00-aaae-490d-a34d-34a45ad3c595"
      },
      "source": [
        "for numer, student in enumerate(studenci):\n",
        "    print(\"student {} ma numer {}\".format(student,numer))"
      ],
      "execution_count": null,
      "outputs": [
        {
          "output_type": "stream",
          "text": [
            "student Ania ma numer 0\n",
            "student Zosia ma numer 1\n",
            "student Kasia ma numer 2\n",
            "student Franek ma numer 3\n"
          ],
          "name": "stdout"
        }
      ]
    },
    {
      "cell_type": "code",
      "metadata": {
        "id": "X-hKQX1KIMXk",
        "colab": {
          "base_uri": "https://localhost:8080/",
          "height": 182
        },
        "outputId": "8b01b52e-4f4f-49a6-bfe4-9f16c5fc877e"
      },
      "source": [
        "oceny = [2,2,5,3]\n",
        "\n",
        "for numer, student in enumerate(studenci):\n",
        "    print(\"student {} ma numer {} i ocenę {}\".format(student,numer,oceny[numer]))\n",
        "\n",
        "print(\"--\"*20)   \n",
        "\n",
        "for number, (student, ocena) in enumerate(zip(studenci,oceny)):\n",
        "    print(\"student {} ma numer {} i ocenę {}\".format(student,number,ocena))\n",
        "\n",
        "\n",
        "   "
      ],
      "execution_count": null,
      "outputs": [
        {
          "output_type": "stream",
          "text": [
            "student Ania ma numer 0 i ocenę 2\n",
            "student Zosia ma numer 1 i ocenę 2\n",
            "student Kasia ma numer 2 i ocenę 5\n",
            "student Franek ma numer 3 i ocenę 3\n",
            "----------------------------------------\n",
            "student Ania ma numer 0 i ocenę 2\n",
            "student Zosia ma numer 1 i ocenę 2\n",
            "student Kasia ma numer 2 i ocenę 5\n",
            "student Franek ma numer 3 i ocenę 3\n"
          ],
          "name": "stdout"
        }
      ]
    },
    {
      "cell_type": "code",
      "metadata": {
        "id": "E46EondgIMXp"
      },
      "source": [
        "trzy_elementy= [1,2,3]\n",
        "pierwszy,drugi,trzeci= trzy_elementy"
      ],
      "execution_count": null,
      "outputs": []
    },
    {
      "cell_type": "code",
      "metadata": {
        "id": "z7C-40woIMXt",
        "colab": {
          "base_uri": "https://localhost:8080/",
          "height": 182
        },
        "outputId": "c7bc7602-9e6e-4a99-c8cb-ee17c8a40362"
      },
      "source": [
        "n = 1\n",
        "\n",
        "while(n < 10):\n",
        "    print(n)\n",
        "    n+=1"
      ],
      "execution_count": null,
      "outputs": [
        {
          "output_type": "stream",
          "text": [
            "1\n",
            "2\n",
            "3\n",
            "4\n",
            "5\n",
            "6\n",
            "7\n",
            "8\n",
            "9\n"
          ],
          "name": "stdout"
        }
      ]
    },
    {
      "cell_type": "code",
      "metadata": {
        "id": "BNMYGnIyIMXy",
        "colab": {
          "base_uri": "https://localhost:8080/",
          "height": 35
        },
        "outputId": "2d637282-1501-4419-8ccb-821d97ac0df3"
      },
      "source": [
        "def dodaj_dwa(liczba):\n",
        "    return liczba+2\n",
        "\n",
        "def dodaj_trzy(liczba):\n",
        "    return liczba+3\n",
        "\n",
        "def dodaj_dwie_liczby(liczba1,liczba2):\n",
        "    return liczba1+liczba2\n",
        "\n",
        "\n",
        "dodaj_cztery = lambda liczba:liczba+4\n",
        "print(dodaj_cztery(10))"
      ],
      "execution_count": null,
      "outputs": [
        {
          "output_type": "stream",
          "text": [
            "14\n"
          ],
          "name": "stdout"
        }
      ]
    },
    {
      "cell_type": "code",
      "metadata": {
        "id": "foYVTBwiIMX3",
        "colab": {
          "base_uri": "https://localhost:8080/",
          "height": 90
        },
        "outputId": "2f97866f-a7e4-4391-bc6a-757de38b2f53"
      },
      "source": [
        "funkcje=[dodaj_dwa,dodaj_trzy,dodaj_cztery]\n",
        "\n",
        "jakis_nr= 10\n",
        "\n",
        "\n",
        "for funkcja in funkcje:\n",
        "    print(funkcja(jakis_nr))"
      ],
      "execution_count": null,
      "outputs": [
        {
          "output_type": "stream",
          "text": [
            "12\n",
            "12\n",
            "13\n",
            "14\n"
          ],
          "name": "stdout"
        }
      ]
    },
    {
      "cell_type": "code",
      "metadata": {
        "id": "HAgOgFYjIMX9",
        "colab": {
          "base_uri": "https://localhost:8080/",
          "height": 35
        },
        "outputId": "7b1a4b2a-5cf0-4846-9e07-72fbe3c3e4ca"
      },
      "source": [
        "studenci[0]\n",
        "studenci[1:]\n",
        "studenci[:-1]"
      ],
      "execution_count": null,
      "outputs": [
        {
          "output_type": "execute_result",
          "data": {
            "text/plain": [
              "['Ania', 'Zosia', 'Kasia']"
            ]
          },
          "metadata": {
            "tags": []
          },
          "execution_count": 42
        }
      ]
    },
    {
      "cell_type": "code",
      "metadata": {
        "id": "BcBfTAy_yOkc"
      },
      "source": [
        ""
      ],
      "execution_count": null,
      "outputs": []
    },
    {
      "cell_type": "code",
      "metadata": {
        "id": "DRjDzTNyIMYM",
        "colab": {
          "base_uri": "https://localhost:8080/",
          "height": 35
        },
        "outputId": "adf262d4-c8d4-4ffe-c968-fb6c9a63801b"
      },
      "source": [
        "len(zajecia)\n",
        "\n",
        "zajecia[4][1]\n",
        "\n",
        "\"Ma\" in \"MojaMaMa\"\n",
        "\n",
        "liczby=[\"22\",\"11\",\"33\",\"100\"]\n",
        "liczby_i_nazwy= [(\"22\",\"dwadziescia dwa\"),\n",
        "                 (\"11\",\"jedenascie\"),\n",
        "        (\"33\",\"trzydziesci trzy\"),(\"100\",\"sto\")]\n",
        "sorted(liczby)\n",
        "\n",
        "sorted(liczby, key=int)\n",
        "\n",
        "liczby_kolejnosc= enumerate(liczby)\n",
        "\n",
        "def czy_jest_jeden(liczba):\n",
        "\n",
        "    if \"1\" in liczba:\n",
        "        return 1\n",
        "    else:\n",
        "        return 0\n",
        "def na_liczbe(krotka):\n",
        "         return int(krotka[0])\n",
        "def na_liczbe_index(krotka):\n",
        "         return int(krotka[1])    \n",
        "sorted(liczby, key=czy_jest_jeden)\n",
        "         \n",
        "sorted(liczby_i_nazwy,key=na_liczbe)\n",
        "\n",
        "sorted(liczby_kolejnosc,key=na_liczbe_index)"
      ],
      "execution_count": null,
      "outputs": [
        {
          "output_type": "execute_result",
          "data": {
            "text/plain": [
              "[(1, '11'), (0, '22'), (2, '33'), (3, '100')]"
            ]
          },
          "metadata": {
            "tags": []
          },
          "execution_count": 8
        }
      ]
    },
    {
      "cell_type": "markdown",
      "metadata": {
        "id": "8215zqGJb0UN"
      },
      "source": [
        "# Challenge\r\n"
      ]
    },
    {
      "cell_type": "code",
      "metadata": {
        "id": "F0roCPFsIMYD",
        "colab": {
          "base_uri": "https://localhost:8080/",
          "height": 182
        },
        "outputId": "4ad21467-a768-439f-f1a9-0b5590e58552"
      },
      "source": [
        "#### challenge 0.1\n",
        "print(\"challenge 0.1\")\n",
        "zajecia = [\"wf\",\"informatyka\",\"relax\",\"mispy\",\"piateczek\"]\n",
        "dnityg= [\"Pon\",\"Wto\",\"Sro\",\"Czwar\",\"Pio\"]\n",
        "\n",
        "# wyprintuj zajecia od srody do piatku\n",
        "for dni in dnityg[2:]:\n",
        "  print (dni,zajecia)\n",
        "print(\"--\"*20)  \n",
        "# wyprintuj oprocz srody\n",
        "for dni in dnityg:\n",
        "  if dni != \"Sro\":\n",
        "    print(dni,zajecia)"
      ],
      "execution_count": null,
      "outputs": [
        {
          "output_type": "stream",
          "text": [
            "chllenge 0.1\n",
            "Sro ['wf', 'informatyka', 'relax', 'mispy', 'piateczek']\n",
            "Czwar ['wf', 'informatyka', 'relax', 'mispy', 'piateczek']\n",
            "Pio ['wf', 'informatyka', 'relax', 'mispy', 'piateczek']\n",
            "----------------------------------------\n",
            "Pon ['wf', 'informatyka', 'relax', 'mispy', 'piateczek']\n",
            "Wto ['wf', 'informatyka', 'relax', 'mispy', 'piateczek']\n",
            "Czwar ['wf', 'informatyka', 'relax', 'mispy', 'piateczek']\n",
            "Pio ['wf', 'informatyka', 'relax', 'mispy', 'piateczek']\n"
          ],
          "name": "stdout"
        }
      ]
    },
    {
      "cell_type": "code",
      "metadata": {
        "id": "2wTr41VHIMYI",
        "colab": {
          "base_uri": "https://localhost:8080/",
          "height": 256
        },
        "outputId": "f0690442-01be-484c-c03e-614dcbbc2dff"
      },
      "source": [
        "#### challenge 0.2\n",
        "print(\"challenge 0.2\")\n",
        "zajecia = [[\"wf\"],\n",
        "           [\"informatyka\", \"nauka czytania\"],\n",
        "           [\"relax\", \"jedzenie\"],\n",
        "           [\"mispy\",\"mispy w domu\"],\n",
        "           [\"piateczek\", \"praca domowa z mispow\", \"Ilovemispy\", \"mispy w czasie snu\"]\n",
        "          ]\n",
        "\n",
        "dnityg= [\"Pon\",\"Wto\",\"Sro\",\"Czwar\",\"Pio\"]\n",
        "\n",
        "# zdefiniuj funkcje ktora poda ile jest zajec danego dnia\n",
        "def zaj_na_dzien (dzien):\n",
        "  for dni,zaj in zip(dnityg,zajecia):\n",
        "    if dzien==dni:\n",
        "      print(dni,len(zaj))\n",
        "\n",
        "print (zaj_na_dzien(\"Pio\"))\n",
        "print(\"--\"*20)   \n",
        "\n",
        "\n",
        "# lista_zajec_z_dnia -> ile ich jest\n",
        "def lista_zajec_z_dnia (dzien):\n",
        "  for dni,zaj in zip (dnityg,zajecia):\n",
        "    if dzien==dni:\n",
        "     print(zaj,len(zaj))\n",
        "\n",
        "print(lista_zajec_z_dnia(\"Pio\"))\n",
        "print(\"--\"*20)   \n",
        "\n",
        "# po\n",
        "# posortuj dni po najbardziej zajetych\n",
        "lista_dzien_zajecia = list (zip(dnityg,zajecia))\n",
        "print(\"nieposortowane\",dnityg)\n",
        "print(\"posortowane\",[x[0] for x in sorted(lista_dzien_zajecia,key= lambda x: len(x[1]),reverse=True)])\n",
        "print(\"--\"*20)"
      ],
      "execution_count": null,
      "outputs": [
        {
          "output_type": "stream",
          "text": [
            "challenge 0.2\n",
            "Pio 4\n",
            "None\n",
            "----------------------------------------\n",
            "['piateczek', 'praca domowa z mispow', 'Ilovemispy', 'mispy w czasie snu'] 4\n",
            "None\n",
            "----------------------------------------\n",
            "nieposortowane ['Pon', 'Wto', 'Sro', 'Czwar', 'Pio']\n",
            "posortowane ['Pio', 'Wto', 'Sro', 'Czwar', 'Pon']\n",
            "----------------------------------------\n",
            "challenge 0.3\n",
            "Pio 3\n",
            "Pio\n"
          ],
          "name": "stdout"
        }
      ]
    },
    {
      "cell_type": "code",
      "metadata": {
        "id": "TRjrwXCEcDDS"
      },
      "source": [
        "#### challenge 0.3\r\n",
        "print(\"challenge 0.3\")\r\n",
        "# napisz program ktory znajdzie dzien z najwieksza iloscia mispow\r\n",
        "ilosc_mispow = [0]* len(dnityg)   #stworzenie tablicy o długości ilosci dni\r\n",
        "for x in range(0,len(zajecia)):   # fory aby znaleźć misp w zajeciach\r\n",
        "  for y in range (0,len(zajecia[x])):\r\n",
        "    if(\"misp\" in zajecia[x][y]):\r\n",
        "     ilosc_mispow[x]=ilosc_mispow[x]+1 #inkrementacja do tablicy ilosc_mispow aby zliczac wystąpienia\r\n",
        "id_max_mispow = ilosc_mispow.index(max(ilosc_mispow)) #\r\n",
        "print(dnityg[id_max_mispow],max(ilosc_mispow))\r\n",
        "\r\n",
        "#challene 3.0 roz\r\n",
        "def ile_mispow(zajecia):\r\n",
        "  ile_misp = 0\r\n",
        "  for zajecie in zajecia:\r\n",
        "    if \"misp\" in zajecie:\r\n",
        "      ile_misp +=1\r\n",
        "  return ile_misp\r\n",
        "\r\n",
        "najwiecej = max(zajecia,key = ile_mispow)\r\n",
        "polaczenie = zip(zajecia,dnityg)\r\n",
        "\r\n",
        "max(zajecia,key = ile_mispow)\r\n",
        "max(polaczenie, key =lambda para:ile_mispow(para[0]))\r\n",
        "print(dnityg[zajecia.index(najwiecej)])"
      ],
      "execution_count": null,
      "outputs": []
    }
  ]
}